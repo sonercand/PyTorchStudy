{
 "cells": [
  {
   "cell_type": "markdown",
   "metadata": {},
   "source": [
    "## Saving torch models"
   ]
  },
  {
   "cell_type": "markdown",
   "metadata": {},
   "source": [
    "* design\n",
    "* train\n",
    "* save"
   ]
  },
  {
   "cell_type": "markdown",
   "metadata": {},
   "source": [
    "##### imports"
   ]
  },
  {
   "cell_type": "code",
   "execution_count": 1,
   "metadata": {},
   "outputs": [],
   "source": [
    "import torch\n",
    "from torchvision import datasets, transforms\n",
    "import helper\n",
    "import matplotlib.pyplot as plt\n",
    "import matplotlib.image as mpimg\n",
    "import numpy as np\n",
    "\n",
    "# Transformation\n",
    "transform = transforms.Compose([transforms.ToTensor(),\n",
    "                                transforms.Normalize((0.5,), (0.5,))])\n",
    "# Download and load the training data\n",
    "trainset = datasets.FashionMNIST('~/.pytorch/F_MNIST_data/', download=True, train=True, transform=transform)\n",
    "trainloader = torch.utils.data.DataLoader(trainset, batch_size=64, shuffle=True)\n",
    "\n",
    "# Download and load the test data\n",
    "testset = datasets.FashionMNIST('~/.pytorch/F_MNIST_data/', download=True, train=False, transform=transform)\n",
    "testloader = torch.utils.data.DataLoader(testset, batch_size=64, shuffle=True)"
   ]
  },
  {
   "cell_type": "markdown",
   "metadata": {},
   "source": [
    "#### model design"
   ]
  },
  {
   "cell_type": "code",
   "execution_count": 2,
   "metadata": {},
   "outputs": [
    {
     "name": "stdout",
     "output_type": "stream",
     "text": [
      "torch.Size([64, 1, 28, 28])\n"
     ]
    }
   ],
   "source": [
    "# get the size of the input\n",
    "sample_image,label = next(iter(testloader))\n",
    "size_ = sample_image.shape\n",
    "print(size_)"
   ]
  },
  {
   "cell_type": "code",
   "execution_count": 3,
   "metadata": {},
   "outputs": [],
   "source": [
    "import torch.nn.functional as F\n",
    "from torch import nn\n",
    "from torch import optim\n",
    "\n",
    "\n",
    "class Network(nn.Module):\n",
    "    def __init__(self,input_shape,output_shape,number_of_hidden_layers,nodes_in_layers,dropouts):\n",
    "        super().__init__()\n",
    "        self.input_shape = input_shape\n",
    "        self.output_shape = output_shape\n",
    "        self.number_of_hidden_layers = number_of_hidden_layers\n",
    "        self.nodes_in_layers = nodes_in_layers\n",
    "        self.dropout_percs = dropouts\n",
    "        self.layers = nn.ModuleList()\n",
    "        self.set_layers()\n",
    "        \n",
    "                         \n",
    "                         \n",
    "    def set_layers(self):\n",
    "        self.layers.append(nn.Linear(input_shape[0],nodes_in_layers[0]))\n",
    "        for k in range(number_of_hidden_layers):\n",
    "            if k<self.number_of_hidden_layers-1:\n",
    "                self.layers.append(nn.Linear(nodes_in_layers[k],nodes_in_layers[k+1]))\n",
    "            else:\n",
    "                self.layers.append(nn.Linear(nodes_in_layers[k],output_shape))\n",
    "    \n",
    "    def forward(self,x):\n",
    "        x = x.view(x.shape[0], -1)# flatten the image\n",
    "        m=0\n",
    "        for k in range(self.number_of_hidden_layers):\n",
    "            if k<self.number_of_hidden_layers-1:\n",
    "                x = F.relu(self.layers[k](x))\n",
    "            else:\n",
    "                x = F.log_softmax(self.layers[k](x), dim=1)\n",
    "            m+=1\n",
    "        return x\n",
    "\n",
    "def accuracy(y_hat_tensor,label_tensor):\n",
    "    '''\n",
    "    args:\n",
    "        y_hat_tensor tensor: direct output of the model. \n",
    "        label_tensor tensor: actual labels of the given items\n",
    "    returns:\n",
    "        accuracy float\n",
    "        accurate float: number of accurately labeled items\n",
    "        total_samples float : number of samples investigated\n",
    "    '''\n",
    "    y_hat_tensor = torch.exp(y_hat_tensor)\n",
    "    values, pred_labels = y_hat_tensor.max(1) # works like numpy argmax plus returns the values of the cells.\n",
    "    accurate = sum(1 for a, b in zip(pred_labels.numpy(), label_tensor.numpy()) if a == b)\n",
    "    total_samples = len(label_tensor)\n",
    "    accuracy = accurate/total_samples\n",
    "    return accuracy,accurate,total_samples"
   ]
  },
  {
   "cell_type": "code",
   "execution_count": 4,
   "metadata": {},
   "outputs": [
    {
     "name": "stdout",
     "output_type": "stream",
     "text": [
      "Network(\n",
      "  (layers): ModuleList(\n",
      "    (0): Linear(in_features=784, out_features=128, bias=True)\n",
      "    (1): Linear(in_features=128, out_features=64, bias=True)\n",
      "    (2): Linear(in_features=64, out_features=32, bias=True)\n",
      "    (3): Linear(in_features=32, out_features=10, bias=True)\n",
      "  )\n",
      ")\n"
     ]
    }
   ],
   "source": [
    "input_shape = [28*28]\n",
    "output_shape = 10\n",
    "number_of_hidden_layers = 3\n",
    "nodes_in_layers = [128,64,32]\n",
    "dropouts=[]\n",
    "model = Network(input_shape,output_shape,number_of_hidden_layers,nodes_in_layers,dropouts)\n",
    "print(model)"
   ]
  },
  {
   "cell_type": "markdown",
   "metadata": {},
   "source": [
    "#### Loss function and optimiser"
   ]
  },
  {
   "cell_type": "code",
   "execution_count": 5,
   "metadata": {},
   "outputs": [],
   "source": [
    "criterion = nn.NLLLoss() # Loss function Negative log likelyhood loss\n",
    "optimizer = optim.Adam(model.parameters(), lr=0.01) #  learning rate 0.003"
   ]
  },
  {
   "cell_type": "markdown",
   "metadata": {},
   "source": [
    "#### train"
   ]
  },
  {
   "cell_type": "code",
   "execution_count": 7,
   "metadata": {},
   "outputs": [
    {
     "name": "stdout",
     "output_type": "stream",
     "text": [
      "---------- epoch : 1 -----------\n",
      " Training Accuracy = 0.8530666666666666  - Training Loss = 0.4147444701493422\n",
      " Test Accuracy = 0.8464  - Test Loss = 0.4446774125099182\n",
      "---------- epoch : 2 -----------\n",
      " Training Accuracy = 0.8559833333333333  - Training Loss = 0.40338617709399793\n",
      " Test Accuracy = 0.8297  - Test Loss = 0.4986751079559326\n",
      "---------- epoch : 3 -----------\n",
      " Training Accuracy = 0.8603333333333333  - Training Loss = 0.3987375376924777\n",
      " Test Accuracy = 0.8405  - Test Loss = 0.4593496024608612\n"
     ]
    }
   ],
   "source": [
    "epochs = 3\n",
    "epoch = 0\n",
    "train_losses = []\n",
    "test_losses = []\n",
    "for e in range(epochs):\n",
    "    running_loss = 0\n",
    "    total_accurate = 0\n",
    "    total_samples = 0\n",
    "    for images, labels in trainloader:\n",
    "        # Training pass\n",
    "        output = model(images) # directly passes the images into forward method\n",
    "        loss = criterion(output, labels)\n",
    "        optimizer.zero_grad()\n",
    "        loss.backward()\n",
    "        optimizer.step()\n",
    "        \n",
    "        batch_train_accuracy,accurate,total_sample = accuracy(output,labels)\n",
    "        running_loss += loss.item()\n",
    "        total_accurate += accurate\n",
    "        total_samples += total_sample\n",
    "    else:\n",
    "        with torch.no_grad():\n",
    "            model.eval()\n",
    "            test_loss = 0\n",
    "            total_samples_test = 0\n",
    "            total_accurate_test = 0\n",
    "            for images, labels in testloader:\n",
    "                output = model(images)\n",
    "                test_loss += criterion(output, labels)\n",
    "                batch_test_accuracy,accurate_test,total_sample_test = accuracy(output,labels)\n",
    "                total_accurate_test += accurate_test\n",
    "                total_samples_test += total_sample_test\n",
    "        model.train()\n",
    "        train_losses.append(running_loss/len(trainloader))\n",
    "        test_losses.append(test_loss/len(testloader))\n",
    "        print('''---------- epoch : {} -----------'''.format(epoch+1))\n",
    "        print(''' Training Accuracy = {}  - Training Loss = {}'''.format(total_accurate/total_samples,running_loss/len(trainloader)))\n",
    "        print(''' Test Accuracy = {}  - Test Loss = {}'''.format(total_accurate_test/total_samples_test,test_loss/len(testloader)))\n",
    "        epoch += 1"
   ]
  },
  {
   "cell_type": "markdown",
   "metadata": {},
   "source": [
    "#### save model"
   ]
  },
  {
   "cell_type": "code",
   "execution_count": 25,
   "metadata": {},
   "outputs": [],
   "source": [
    "checkpoint = {\n",
    "    'input_size' : input_shape[0],\n",
    "    'output_size' : output_shape,\n",
    "    'hidden_layers' : [layer.out_features for layer in model.layers[1:-1]],\n",
    "    'state_dict' : model.state_dict()\n",
    "    \n",
    "}\n",
    "\n",
    "torch.save(model.state_dict(),'..\\models\\\\4_sample_model.pth')"
   ]
  },
  {
   "cell_type": "code",
   "execution_count": 26,
   "metadata": {},
   "outputs": [
    {
     "name": "stdout",
     "output_type": "stream",
     "text": [
      "odict_keys(['layers.0.weight', 'layers.0.bias', 'layers.1.weight', 'layers.1.bias', 'layers.2.weight', 'layers.2.bias', 'layers.3.weight', 'layers.3.bias'])\n"
     ]
    }
   ],
   "source": [
    "print(model.state_dict().keys())"
   ]
  },
  {
   "cell_type": "markdown",
   "metadata": {},
   "source": [
    "#### save entire model"
   ]
  },
  {
   "cell_type": "code",
   "execution_count": 27,
   "metadata": {},
   "outputs": [
    {
     "name": "stderr",
     "output_type": "stream",
     "text": [
      "c:\\users\\sismc\\desktop\\projects\\pytorchstudy\\pts\\lib\\site-packages\\torch\\serialization.py:292: UserWarning: Couldn't retrieve source code for container of type Network. It won't be checked for correctness upon loading.\n",
      "  \"type \" + obj.__name__ + \". It won't be checked \"\n",
      "c:\\users\\sismc\\desktop\\projects\\pytorchstudy\\pts\\lib\\site-packages\\torch\\serialization.py:292: UserWarning: Couldn't retrieve source code for container of type ModuleList. It won't be checked for correctness upon loading.\n",
      "  \"type \" + obj.__name__ + \". It won't be checked \"\n",
      "c:\\users\\sismc\\desktop\\projects\\pytorchstudy\\pts\\lib\\site-packages\\torch\\serialization.py:292: UserWarning: Couldn't retrieve source code for container of type Linear. It won't be checked for correctness upon loading.\n",
      "  \"type \" + obj.__name__ + \". It won't be checked \"\n"
     ]
    }
   ],
   "source": [
    "torch.save(model,'..\\models\\\\entire_sample_model.pth')"
   ]
  },
  {
   "cell_type": "code",
   "execution_count": null,
   "metadata": {},
   "outputs": [],
   "source": []
  }
 ],
 "metadata": {
  "kernelspec": {
   "display_name": "Python 3",
   "language": "python",
   "name": "python3"
  },
  "language_info": {
   "codemirror_mode": {
    "name": "ipython",
    "version": 3
   },
   "file_extension": ".py",
   "mimetype": "text/x-python",
   "name": "python",
   "nbconvert_exporter": "python",
   "pygments_lexer": "ipython3",
   "version": "3.6.8"
  }
 },
 "nbformat": 4,
 "nbformat_minor": 2
}
