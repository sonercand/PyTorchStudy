{
 "cells": [
  {
   "cell_type": "markdown",
   "metadata": {},
   "source": [
    "# Multi Layer Perceptron \n",
    "* split train validation and test sets\n",
    "* design model\n",
    "* save best model\n",
    "* test best model"
   ]
  },
  {
   "cell_type": "markdown",
   "metadata": {},
   "source": [
    "#### libraries"
   ]
  },
  {
   "cell_type": "code",
   "execution_count": 2,
   "metadata": {},
   "outputs": [],
   "source": [
    "import torch\n",
    "import numpy as np\n",
    "from torchvision import datasets # to load mnist dataset\n",
    "import torchvision.transforms as transforms # dataset transformations such as totensor\n",
    "from torch.utils.data.sampler import SubsetRandomSampler # random sampler"
   ]
  },
  {
   "cell_type": "markdown",
   "metadata": {},
   "source": [
    "#### load, transform and split data sets"
   ]
  },
  {
   "cell_type": "code",
   "execution_count": 3,
   "metadata": {},
   "outputs": [],
   "source": [
    "num_workers = 0\n",
    "batch_size = 64\n",
    "validation_size = 0.3\n",
    "# data transformations. In this instance, test and train will have the same transformation which is not the case most often\n",
    "transform = transforms.ToTensor()\n",
    "# train and test sets\n",
    "train_set = datasets.MNIST(root='../data',train=True,download=True, transform=transform)\n",
    "test_set = datasets.MNIST(root='../data',train=False,download=False, transform=transform)"
   ]
  },
  {
   "cell_type": "code",
   "execution_count": 4,
   "metadata": {},
   "outputs": [
    {
     "name": "stdout",
     "output_type": "stream",
     "text": [
      "18000 42000\n",
      "42000 18000\n"
     ]
    }
   ],
   "source": [
    "num_train = int(np.floor(len(train_set)*(1-validation_size)))\n",
    "num_valid = int(np.floor(len(train_set)*validation_size))\n",
    "print(num_valid,num_train)\n",
    "ids = np.arange(len(train_set))\n",
    "np.random.shuffle(ids)\n",
    "# define samplers:\n",
    "train_ids, validation_ids = ids[:num_train], ids[num_train:] \n",
    "print(len(train_ids),len(validation_ids))\n",
    "train_sampler = SubsetRandomSampler(train_ids)\n",
    "valid_sampler = SubsetRandomSampler(validation_ids)\n",
    "# data loader\n",
    "train_loader = torch.utils.data.DataLoader(train_set, batch_size=batch_size,\n",
    "    sampler=train_sampler, num_workers=num_workers)\n",
    "valid_loader = torch.utils.data.DataLoader(train_set, batch_size=batch_size, \n",
    "    sampler=valid_sampler, num_workers=num_workers)\n",
    "test_loader = torch.utils.data.DataLoader(test_set, batch_size=batch_size, \n",
    "    num_workers=num_workers)"
   ]
  },
  {
   "cell_type": "markdown",
   "metadata": {},
   "source": [
    "#### plot samples"
   ]
  },
  {
   "cell_type": "code",
   "execution_count": 5,
   "metadata": {},
   "outputs": [
    {
     "data": {
      "image/png": "[encoded data removed]",
      "text/plain": [
       "<Figure size 1800x288 with 20 Axes>"
      ]
     },
     "metadata": {},
     "output_type": "display_data"
    }
   ],
   "source": [
    "import matplotlib.pyplot as plt\n",
    "%matplotlib inline\n",
    "dataiter = iter(train_loader)\n",
    "images, labels = dataiter.next() # get the batch\n",
    "images = images.numpy() # convert to numpy\n",
    "\n",
    "fig = plt.figure(figsize = (25,4))\n",
    "for i in np.arange(20):\n",
    "    ax = fig.add_subplot(2, 20/2, i+1, xticks=[], yticks=[])\n",
    "    ax.imshow(np.squeeze(images[i]),cmap='gray')\n",
    "    ax.set_title(labels[i].item())"
   ]
  },
  {
   "cell_type": "markdown",
   "metadata": {},
   "source": [
    "## Network"
   ]
  },
  {
   "cell_type": "code",
   "execution_count": 6,
   "metadata": {},
   "outputs": [],
   "source": [
    "import torch.nn as nn\n",
    "import torch.nn.functional as F\n",
    "\n",
    "class Network(nn.Module):\n",
    "    \n",
    "    def __init__(self,batch_size,flat_image_size):\n",
    "        super(Network,self).__init__()\n",
    "        self.batch_size = batch_size\n",
    "        self.flat_image_size = flat_image_size\n",
    "        #input layer\n",
    "        self.fc1 = nn.Linear(28*28,128)\n",
    "        # hidden layers\n",
    "        self.fc2 = nn.Linear(128,64)\n",
    "        self.fc3 = nn.Linear(64,32)\n",
    "        self.classifier = nn.Linear(32,10)\n",
    "        # dropout\n",
    "        self.dropout = nn.Dropout(p=0.2)\n",
    "        \n",
    "    def forward(self,x):\n",
    "        #reshape the image\n",
    "        x = x.view(-1,self.flat_image_size)\n",
    "        # network\n",
    "        x = F.relu(self.fc1(x))\n",
    "        #second layer\n",
    "        x = F.relu(self.fc2(x))\n",
    "        x = self.dropout(x)\n",
    "        #third layer\n",
    "        x = F.relu(self.fc3(x))\n",
    "        x = self.dropout(x)\n",
    "        # output layer\n",
    "        x = F.log_softmax(self.classifier(x), dim=1)\n",
    "        return x"
   ]
  },
  {
   "cell_type": "code",
   "execution_count": 7,
   "metadata": {},
   "outputs": [
    {
     "name": "stdout",
     "output_type": "stream",
     "text": [
      "Network(\n",
      "  (fc1): Linear(in_features=784, out_features=128, bias=True)\n",
      "  (fc2): Linear(in_features=128, out_features=64, bias=True)\n",
      "  (fc3): Linear(in_features=64, out_features=32, bias=True)\n",
      "  (classifier): Linear(in_features=32, out_features=10, bias=True)\n",
      "  (dropout): Dropout(p=0.2, inplace=False)\n",
      ")\n"
     ]
    }
   ],
   "source": [
    "model = Network(64, 28*28)\n",
    "print(model)"
   ]
  },
  {
   "cell_type": "markdown",
   "metadata": {},
   "source": [
    "#### loss and optimiser"
   ]
  },
  {
   "cell_type": "code",
   "execution_count": 8,
   "metadata": {},
   "outputs": [],
   "source": [
    "from torch import optim\n",
    "criterion = nn.NLLLoss() # Loss function Negative log likelyhood loss\n",
    "optimizer = optim.Adam(model.parameters(), lr=0.01) #  learning rate 0.003"
   ]
  },
  {
   "cell_type": "code",
   "execution_count": 9,
   "metadata": {},
   "outputs": [],
   "source": [
    "def accuracy(y_hat_tensor,label_tensor):\n",
    "    '''\n",
    "    args:\n",
    "        y_hat_tensor tensor: direct output of the model. \n",
    "        label_tensor tensor: actual labels of the given items\n",
    "    returns:\n",
    "        accuracy float\n",
    "        accurate float: number of accurately labeled items\n",
    "        total_samples float : number of samples investigated\n",
    "    '''\n",
    "    y_hat_tensor = torch.exp(y_hat_tensor)\n",
    "    values, pred_labels = y_hat_tensor.max(1) # works like numpy argmax plus returns the values of the cells.\n",
    "    accurate = sum(1 for a, b in zip(pred_labels.numpy(), label_tensor.numpy()) if a == b)\n",
    "    total_samples = len(label_tensor)\n",
    "    accuracy = accurate/total_samples\n",
    "    return accuracy,accurate,total_samples"
   ]
  },
  {
   "cell_type": "code",
   "execution_count": 10,
   "metadata": {},
   "outputs": [
    {
     "name": "stdout",
     "output_type": "stream",
     "text": [
      "---------- epoch : 1 -----------\n",
      " Training Accuracy = 0.8858571428571429  - Training Loss = 0.4003699090915819\n",
      " Test Accuracy = 0.9433888888888889  - Test Loss = 0.2006707787513733\n",
      "tensor(0.2007)\n",
      "inf\n",
      "validation loss decreased! Saving model..\n",
      "---------- epoch : 2 -----------\n",
      " Training Accuracy = 0.9413571428571429  - Training Loss = 0.23330283287630518\n",
      " Test Accuracy = 0.9547222222222222  - Test Loss = 0.1671222746372223\n",
      "tensor(0.1671)\n",
      "tensor(0.2007)\n",
      "validation loss decreased! Saving model..\n",
      "---------- epoch : 3 -----------\n",
      " Training Accuracy = 0.9457857142857143  - Training Loss = 0.2083977587064629\n",
      " Test Accuracy = 0.9576666666666667  - Test Loss = 0.1852959543466568\n",
      "tensor(0.1853)\n",
      "tensor(0.1671)\n",
      "---------- epoch : 4 -----------\n",
      " Training Accuracy = 0.9511904761904761  - Training Loss = 0.19451083942023042\n",
      " Test Accuracy = 0.9594444444444444  - Test Loss = 0.17316097021102905\n",
      "tensor(0.1732)\n",
      "tensor(0.1671)\n",
      "---------- epoch : 5 -----------\n",
      " Training Accuracy = 0.9571190476190476  - Training Loss = 0.17043421232237946\n",
      " Test Accuracy = 0.9540555555555555  - Test Loss = 0.20067720115184784\n",
      "tensor(0.2007)\n",
      "tensor(0.1671)\n",
      "---------- epoch : 6 -----------\n",
      " Training Accuracy = 0.9557619047619048  - Training Loss = 0.17273564156020113\n",
      " Test Accuracy = 0.9566666666666667  - Test Loss = 0.19843901693820953\n",
      "tensor(0.1984)\n",
      "tensor(0.1671)\n",
      "---------- epoch : 7 -----------\n",
      " Training Accuracy = 0.9575476190476191  - Training Loss = 0.1677878784303535\n",
      " Test Accuracy = 0.9573333333333334  - Test Loss = 0.2368217408657074\n",
      "tensor(0.2368)\n",
      "tensor(0.1671)\n",
      "---------- epoch : 8 -----------\n",
      " Training Accuracy = 0.9625476190476191  - Training Loss = 0.15237614573521718\n",
      " Test Accuracy = 0.9652777777777778  - Test Loss = 0.1935972422361374\n",
      "tensor(0.1936)\n",
      "tensor(0.1671)\n",
      "---------- epoch : 9 -----------\n",
      " Training Accuracy = 0.9627857142857142  - Training Loss = 0.15491290535822372\n",
      " Test Accuracy = 0.9646666666666667  - Test Loss = 0.20754936337471008\n",
      "tensor(0.2075)\n",
      "tensor(0.1671)\n",
      "---------- epoch : 10 -----------\n",
      " Training Accuracy = 0.963047619047619  - Training Loss = 0.14900076282501243\n",
      " Test Accuracy = 0.9531111111111111  - Test Loss = 0.23505236208438873\n",
      "tensor(0.2351)\n",
      "tensor(0.1671)\n"
     ]
    }
   ],
   "source": [
    "epochs = 10\n",
    "epoch = 0\n",
    "valid_loss_min = np.Inf \n",
    "train_losses = []\n",
    "valid_losses = []\n",
    "\n",
    "for e in range(epochs):\n",
    "    running_loss = 0\n",
    "    total_accurate = 0\n",
    "    total_samples = 0\n",
    "    for images, labels in train_loader:\n",
    "        # Training pass\n",
    "        #print(images.shape)\n",
    "        output = model(images) # directly passes the images into forward method\n",
    "        loss = criterion(output, labels)\n",
    "        optimizer.zero_grad() # clear gradients\n",
    "        loss.backward() # compute gradients\n",
    "        optimizer.step() # update weights\n",
    "        \n",
    "        batch_train_accuracy,accurate,total_sample = accuracy(output,labels)\n",
    "        running_loss += loss.item()\n",
    "        total_accurate += accurate\n",
    "        total_samples += total_sample\n",
    "        #print(total_accurate)\n",
    "    else:\n",
    "        with torch.no_grad():\n",
    "            model.eval()\n",
    "            valid_loss = 0\n",
    "            total_samples_test = 0\n",
    "            total_accurate_test = 0\n",
    "            for images, labels in valid_loader:\n",
    "                output = model(images)\n",
    "                valid_loss += criterion(output, labels)\n",
    "                batch_test_accuracy,accurate_test,total_sample_test = accuracy(output,labels)\n",
    "                total_accurate_test += accurate_test\n",
    "                total_samples_test += total_sample_test\n",
    "        model.train()\n",
    "        train_losses.append(running_loss/len(train_loader))\n",
    "        valid_losses.append(valid_loss/len(valid_loader))\n",
    "        print('''---------- epoch : {} -----------'''.format(epoch+1))\n",
    "        print(''' Training Accuracy = {}  - Training Loss = {}'''.format(total_accurate/total_samples,running_loss/len(train_loader)))\n",
    "        print(''' Test Accuracy = {}  - Test Loss = {}'''.format(total_accurate_test/total_samples_test,valid_loss/len(valid_loader)))\n",
    "        epoch += 1\n",
    "        print(valid_loss/len(valid_loader))\n",
    "        print(valid_loss_min)\n",
    "        if valid_loss/len(valid_loader)<valid_loss_min:\n",
    "            valid_loss_min = valid_loss/len(valid_loader)\n",
    "            print('validation loss decreased! Saving model..')\n",
    "            torch.save(model.state_dict(), '../models/model_9.pt')\n",
    "            "
   ]
  },
  {
   "cell_type": "markdown",
   "metadata": {},
   "source": [
    "#### load the best model"
   ]
  },
  {
   "cell_type": "code",
   "execution_count": 16,
   "metadata": {},
   "outputs": [
    {
     "data": {
      "text/plain": [
       "<All keys matched successfully>"
      ]
     },
     "execution_count": 16,
     "metadata": {},
     "output_type": "execute_result"
    }
   ],
   "source": [
    "model.load_state_dict(torch.load('../models/model_9.pt'))"
   ]
  },
  {
   "cell_type": "markdown",
   "metadata": {},
   "source": [
    "## Test "
   ]
  },
  {
   "cell_type": "code",
   "execution_count": 12,
   "metadata": {},
   "outputs": [],
   "source": [
    "with torch.no_grad():\n",
    "            model.eval()\n",
    "            test_loss = 0\n",
    "            total_samples_test = 0\n",
    "            total_accurate_test = 0\n",
    "            for images, labels in test_loader:\n",
    "                output = model(images)\n",
    "                test_loss += criterion(output, labels)\n",
    "                batch_test_accuracy,accurate_test,total_sample_test = accuracy(output,labels)\n",
    "                total_accurate_test += accurate_test\n",
    "                total_samples_test += total_sample_test"
   ]
  },
  {
   "cell_type": "code",
   "execution_count": 13,
   "metadata": {},
   "outputs": [
    {
     "name": "stdout",
     "output_type": "stream",
     "text": [
      "tensor(0.1530)\n"
     ]
    }
   ],
   "source": [
    "loss = test_loss/len(test_loader)\n",
    "print(loss)"
   ]
  },
  {
   "cell_type": "code",
   "execution_count": 14,
   "metadata": {},
   "outputs": [
    {
     "name": "stdout",
     "output_type": "stream",
     "text": [
      "0.9565\n"
     ]
    }
   ],
   "source": [
    "print(total_accurate_test/total_samples_test)"
   ]
  }
 ],
 "metadata": {
  "kernelspec": {
   "display_name": "Python 3",
   "language": "python",
   "name": "python3"
  }
 },
 "nbformat": 4,
 "nbformat_minor": 2
}
