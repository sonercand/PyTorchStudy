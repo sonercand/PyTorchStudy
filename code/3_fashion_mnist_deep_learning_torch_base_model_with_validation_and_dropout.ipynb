{
 "cells": [
  {
   "cell_type": "markdown",
   "metadata": {},
   "source": [
    "## Classify Fashion MNIST\n",
    "\n",
    "Plan\n",
    "* Train a simple model\n",
    "    * Create a model\n",
    "    * Set loss function\n",
    "    * optimisation function\n",
    "    * calculate and update gradients via epoch loops\n",
    "    * in the end of each epoch calculate test accuracy\n",
    "* Validate on test data set"
   ]
  },
  {
   "cell_type": "markdown",
   "metadata": {},
   "source": [
    "### Import Dataset"
   ]
  },
  {
   "cell_type": "code",
   "execution_count": 1,
   "metadata": {},
   "outputs": [],
   "source": [
    "import torch\n",
    "from torchvision import datasets, transforms\n",
    "import helper\n",
    "import matplotlib.pyplot as plt\n",
    "import matplotlib.image as mpimg\n",
    "import numpy as np\n",
    "\n",
    "# Transformation\n",
    "transform = transforms.Compose([transforms.ToTensor(),\n",
    "                                transforms.Normalize((0.5,), (0.5,))])\n",
    "# Download and load the training data\n",
    "trainset = datasets.FashionMNIST('~/.pytorch/F_MNIST_data/', download=True, train=True, transform=transform)\n",
    "trainloader = torch.utils.data.DataLoader(trainset, batch_size=64, shuffle=True)\n",
    "\n",
    "# Download and load the test data\n",
    "testset = datasets.FashionMNIST('~/.pytorch/F_MNIST_data/', download=True, train=False, transform=transform)\n",
    "testloader = torch.utils.data.DataLoader(testset, batch_size=64, shuffle=True)"
   ]
  },
  {
   "cell_type": "markdown",
   "metadata": {},
   "source": [
    "> NOTE: images will be flattened from 28 by 28 to 28X28"
   ]
  },
  {
   "cell_type": "markdown",
   "metadata": {},
   "source": [
    "> Image batch shape : there are 64 images with the shape of 28 pixels by 28 pixels"
   ]
  },
  {
   "cell_type": "code",
   "execution_count": 2,
   "metadata": {},
   "outputs": [],
   "source": [
    "image,label = next(iter(testloader))"
   ]
  },
  {
   "cell_type": "markdown",
   "metadata": {},
   "source": [
    "## Network Design"
   ]
  },
  {
   "cell_type": "code",
   "execution_count": 3,
   "metadata": {},
   "outputs": [
    {
     "name": "stdout",
     "output_type": "stream",
     "text": [
      "Network(\n",
      "  (fc1): Linear(in_features=784, out_features=128, bias=True)\n",
      "  (fc2): Linear(in_features=128, out_features=64, bias=True)\n",
      "  (fc3): Linear(in_features=64, out_features=32, bias=True)\n",
      "  (fc4): Linear(in_features=32, out_features=10, bias=True)\n",
      "  (dp): Dropout(p=0.1, inplace=False)\n",
      ")\n"
     ]
    }
   ],
   "source": [
    "import torch.nn.functional as F\n",
    "from torch import nn\n",
    "\n",
    "\n",
    "class Network(nn.Module):\n",
    "    def __init__(self,input_shape,output_shape):\n",
    "        ''' \n",
    "            args:\n",
    "                input_shape int: number of features in the input images\n",
    "                outpu_shape int: number of classes to which images will be classifed\n",
    "        '''\n",
    "        super().__init__()\n",
    "        self.input_shape = input_shape\n",
    "        self.output_shape = output_shape\n",
    "        # fully connected layers\n",
    "        self.fc1 = nn.Linear(self.input_shape, 128) # outputs 128 values (128*input_shape weights + 128 biases)\n",
    "        self.fc2 = nn.Linear(128,64)\n",
    "        self.fc3 = nn.Linear(64,32)\n",
    "        self.fc4 = nn.Linear(32, self.output_shape) \n",
    "        self.dp  = nn.Dropout(p=0.1)\n",
    "        \n",
    "    def forward(self, x):\n",
    "        ''' Forward pass through the network, returns the output logits ''' \n",
    "        \n",
    "        # pass it through the network\n",
    "        x = self.fc1(x)\n",
    "        x = F.relu(x)\n",
    "        x = self.dp(x)\n",
    "        x = self.fc2(x)\n",
    "        x = F.relu(x)\n",
    "        x = self.dp(x)\n",
    "        x = self.fc3(x)\n",
    "        x = F.relu(x)\n",
    "        x = self.fc4(x)\n",
    "        x = F.log_softmax(x, dim=1)\n",
    "        \n",
    "        return x\n",
    "sample_image = image.view(image.shape[0], -1)# flatten the sample image\n",
    "model = Network(input_shape = sample_image.shape[1],output_shape=10)\n",
    "print(model)"
   ]
  },
  {
   "cell_type": "markdown",
   "metadata": {},
   "source": [
    "## Set Loss and Optimizer"
   ]
  },
  {
   "cell_type": "code",
   "execution_count": 4,
   "metadata": {},
   "outputs": [],
   "source": [
    "from torch import optim\n",
    "criterion = nn.NLLLoss() # Loss function Negative log likelyhood loss\n",
    "optimizer = optim.Adam(model.parameters(), lr=0.01) #  learning rate 0.003"
   ]
  },
  {
   "cell_type": "markdown",
   "metadata": {},
   "source": [
    "> Note: soft_max activation cannot be used with NLLLoss loss function instead log_softmax was used"
   ]
  },
  {
   "cell_type": "markdown",
   "metadata": {},
   "source": [
    "## Train the model"
   ]
  },
  {
   "cell_type": "code",
   "execution_count": 5,
   "metadata": {},
   "outputs": [],
   "source": [
    "def accuracy(y_hat_tensor,label_tensor):\n",
    "    '''\n",
    "    args:\n",
    "        y_hat_tensor tensor: direct output of the model. \n",
    "        label_tensor tensor: actual labels of the given items\n",
    "    returns:\n",
    "        accuracy float\n",
    "        accurate float: number of accurately labeled items\n",
    "        total_samples float : number of samples investigated\n",
    "    '''\n",
    "    y_hat_tensor = torch.exp(y_hat_tensor)\n",
    "    values, pred_labels = y_hat_tensor.max(1) # works like numpy argmax plus returns the values of the cells.\n",
    "    accurate = sum(1 for a, b in zip(pred_labels.numpy(), label_tensor.numpy()) if a == b)\n",
    "    total_samples = len(label_tensor)\n",
    "    accuracy = accurate/total_samples\n",
    "    return accuracy,accurate,total_samples\n"
   ]
  },
  {
   "cell_type": "code",
   "execution_count": 7,
   "metadata": {},
   "outputs": [
    {
     "name": "stdout",
     "output_type": "stream",
     "text": [
      "---------- epoch : 1 -----------\n",
      " Training Accuracy = 0.8300833333333333  - Training Loss = 0.49264484459657404\n",
      " Test Accuracy = 0.817  - Test Loss = 0.5022813081741333\n",
      "---------- epoch : 2 -----------\n",
      " Training Accuracy = 0.8325833333333333  - Training Loss = 0.48753152724140997\n",
      " Test Accuracy = 0.8402  - Test Loss = 0.48401767015457153\n",
      "---------- epoch : 3 -----------\n",
      " Training Accuracy = 0.8340833333333333  - Training Loss = 0.4835210707046584\n",
      " Test Accuracy = 0.8221  - Test Loss = 0.509443998336792\n",
      "---------- epoch : 4 -----------\n",
      " Training Accuracy = 0.8305833333333333  - Training Loss = 0.49733108987432045\n",
      " Test Accuracy = 0.8357  - Test Loss = 0.47510018944740295\n",
      "---------- epoch : 5 -----------\n",
      " Training Accuracy = 0.8386833333333333  - Training Loss = 0.4706632491590372\n",
      " Test Accuracy = 0.8258  - Test Loss = 0.5138647556304932\n",
      "---------- epoch : 6 -----------\n",
      " Training Accuracy = 0.8367166666666667  - Training Loss = 0.48114153658593894\n",
      " Test Accuracy = 0.8377  - Test Loss = 0.49938270449638367\n",
      "---------- epoch : 7 -----------\n",
      " Training Accuracy = 0.83645  - Training Loss = 0.48085033931711846\n",
      " Test Accuracy = 0.8329  - Test Loss = 0.4776833951473236\n",
      "---------- epoch : 8 -----------\n",
      " Training Accuracy = 0.8437666666666667  - Training Loss = 0.4623546370311078\n",
      " Test Accuracy = 0.8382  - Test Loss = 0.49258947372436523\n",
      "---------- epoch : 9 -----------\n",
      " Training Accuracy = 0.84015  - Training Loss = 0.4741089604715549\n",
      " Test Accuracy = 0.8385  - Test Loss = 0.48948004841804504\n",
      "---------- epoch : 10 -----------\n",
      " Training Accuracy = 0.8396  - Training Loss = 0.47277689571065434\n",
      " Test Accuracy = 0.8429  - Test Loss = 0.4869288206100464\n",
      "---------- epoch : 11 -----------\n",
      " Training Accuracy = 0.8419  - Training Loss = 0.4703898386024971\n",
      " Test Accuracy = 0.8463  - Test Loss = 0.46016961336135864\n",
      "---------- epoch : 12 -----------\n",
      " Training Accuracy = 0.8366333333333333  - Training Loss = 0.47993969407353576\n",
      " Test Accuracy = 0.8433  - Test Loss = 0.4672917127609253\n",
      "---------- epoch : 13 -----------\n",
      " Training Accuracy = 0.8388666666666666  - Training Loss = 0.47284296785654034\n",
      " Test Accuracy = 0.8494  - Test Loss = 0.4545113146305084\n",
      "---------- epoch : 14 -----------\n",
      " Training Accuracy = 0.8391833333333333  - Training Loss = 0.4699865029628343\n",
      " Test Accuracy = 0.8389  - Test Loss = 0.49130457639694214\n",
      "---------- epoch : 15 -----------\n",
      " Training Accuracy = 0.8439333333333333  - Training Loss = 0.46774511897106413\n",
      " Test Accuracy = 0.834  - Test Loss = 0.4925675094127655\n",
      "---------- epoch : 16 -----------\n",
      " Training Accuracy = 0.8439166666666666  - Training Loss = 0.45962422492026267\n",
      " Test Accuracy = 0.8373  - Test Loss = 0.4813413619995117\n",
      "---------- epoch : 17 -----------\n",
      " Training Accuracy = 0.84595  - Training Loss = 0.45426948652910526\n",
      " Test Accuracy = 0.8425  - Test Loss = 0.45791512727737427\n",
      "---------- epoch : 18 -----------\n",
      " Training Accuracy = 0.8381333333333333  - Training Loss = 0.4772564116825681\n",
      " Test Accuracy = 0.8313  - Test Loss = 0.5371400713920593\n",
      "---------- epoch : 19 -----------\n",
      " Training Accuracy = 0.8404166666666667  - Training Loss = 0.48211649193692563\n",
      " Test Accuracy = 0.8459  - Test Loss = 0.47482702136039734\n",
      "---------- epoch : 20 -----------\n",
      " Training Accuracy = 0.84115  - Training Loss = 0.4730573195987927\n",
      " Test Accuracy = 0.8427  - Test Loss = 0.490364134311676\n",
      "---------- epoch : 21 -----------\n",
      " Training Accuracy = 0.8487666666666667  - Training Loss = 0.45483842002811714\n",
      " Test Accuracy = 0.8457  - Test Loss = 0.449646532535553\n",
      "---------- epoch : 22 -----------\n",
      " Training Accuracy = 0.8356333333333333  - Training Loss = 0.48243439960073053\n",
      " Test Accuracy = 0.8453  - Test Loss = 0.4716925024986267\n",
      "---------- epoch : 23 -----------\n",
      " Training Accuracy = 0.8436  - Training Loss = 0.4526187105854945\n",
      " Test Accuracy = 0.8504  - Test Loss = 0.447413831949234\n",
      "---------- epoch : 24 -----------\n",
      " Training Accuracy = 0.8463666666666667  - Training Loss = 0.4451827428011752\n",
      " Test Accuracy = 0.8429  - Test Loss = 0.4806724488735199\n",
      "---------- epoch : 25 -----------\n",
      " Training Accuracy = 0.8477166666666667  - Training Loss = 0.44669146587980835\n",
      " Test Accuracy = 0.8507  - Test Loss = 0.4578450322151184\n",
      "---------- epoch : 26 -----------\n",
      " Training Accuracy = 0.8480166666666666  - Training Loss = 0.45123845735973894\n",
      " Test Accuracy = 0.8522  - Test Loss = 0.4588461220264435\n",
      "---------- epoch : 27 -----------\n",
      " Training Accuracy = 0.84365  - Training Loss = 0.4627317239734918\n",
      " Test Accuracy = 0.8408  - Test Loss = 0.47227200865745544\n",
      "---------- epoch : 28 -----------\n",
      " Training Accuracy = 0.8467833333333333  - Training Loss = 0.45609299660618624\n",
      " Test Accuracy = 0.8475  - Test Loss = 0.48037272691726685\n",
      "---------- epoch : 29 -----------\n",
      " Training Accuracy = 0.8514333333333334  - Training Loss = 0.4401037677614165\n",
      " Test Accuracy = 0.8534  - Test Loss = 0.46739280223846436\n",
      "---------- epoch : 30 -----------\n",
      " Training Accuracy = 0.84705  - Training Loss = 0.4527976182319208\n",
      " Test Accuracy = 0.8558  - Test Loss = 0.48110121488571167\n"
     ]
    }
   ],
   "source": [
    "epochs = 30\n",
    "epoch = 0\n",
    "train_losses = []\n",
    "test_losses = []\n",
    "for e in range(epochs):\n",
    "    running_loss = 0\n",
    "    total_accurate = 0\n",
    "    total_samples = 0\n",
    "    for images, labels in trainloader:\n",
    "        #flaten the images\n",
    "        images = images.view(images.shape[0], -1)\n",
    "        # Training pass\n",
    "        output = model(images) # directly passes the images into forward method\n",
    "        loss = criterion(output, labels)\n",
    "        optimizer.zero_grad()\n",
    "        loss.backward()\n",
    "        optimizer.step()\n",
    "        \n",
    "        batch_train_accuracy,accurate,total_sample = accuracy(output,labels)\n",
    "        running_loss += loss.item()\n",
    "        total_accurate += accurate\n",
    "        total_samples += total_sample\n",
    "    else:\n",
    "        with torch.no_grad():\n",
    "            model.eval()\n",
    "            test_loss = 0\n",
    "            total_samples_test = 0\n",
    "            total_accurate_test = 0\n",
    "            for images, labels in testloader:\n",
    "                images = images.view(images.shape[0], -1)\n",
    "                output = model(images)\n",
    "                test_loss += criterion(output, labels)\n",
    "                batch_test_accuracy,accurate_test,total_sample_test = accuracy(output,labels)\n",
    "                total_accurate_test += accurate_test\n",
    "                total_samples_test += total_sample_test\n",
    "        model.train()\n",
    "        train_losses.append(running_loss/len(trainloader))\n",
    "        test_losses.append(test_loss/len(testloader))\n",
    "        print('''---------- epoch : {} -----------'''.format(epoch+1))\n",
    "        print(''' Training Accuracy = {}  - Training Loss = {}'''.format(total_accurate/total_samples,running_loss/len(trainloader)))\n",
    "        print(''' Test Accuracy = {}  - Test Loss = {}'''.format(total_accurate_test/total_samples_test,test_loss/len(testloader)))\n",
    "        epoch += 1"
   ]
  },
  {
   "cell_type": "markdown",
   "metadata": {},
   "source": [
    "### Plot Train and Test Losses"
   ]
  },
  {
   "cell_type": "code",
   "execution_count": 8,
   "metadata": {},
   "outputs": [
    {
     "data": {
      "text/plain": [
       "<matplotlib.legend.Legend at 0x1afffcfcd68>"
      ]
     },
     "execution_count": 8,
     "metadata": {},
     "output_type": "execute_result"
    },
    {
     "data": {
      "image/png": "[encoded data removed]",
      "text/plain": [
       "<Figure size 432x288 with 1 Axes>"
      ]
     },
     "metadata": {
      "needs_background": "light"
     },
     "output_type": "display_data"
    }
   ],
   "source": [
    "plt.plot(train_losses,label='Train Losses')\n",
    "plt.plot(test_losses,label='Test Losses')\n",
    "plt.legend()"
   ]
  },
  {
   "cell_type": "markdown",
   "metadata": {},
   "source": [
    "## Display Results"
   ]
  },
  {
   "cell_type": "code",
   "execution_count": 9,
   "metadata": {},
   "outputs": [
    {
     "data": {
      "image/png": "[encoded data removed]",
      "text/plain": [
       "<Figure size 432x648 with 2 Axes>"
      ]
     },
     "metadata": {
      "image/png": {
       "height": 216,
       "width": 424
      },
      "needs_background": "light"
     },
     "output_type": "display_data"
    }
   ],
   "source": [
    "%matplotlib inline\n",
    "%config InlineBackend.figure_format = 'retina'\n",
    "\n",
    "import helper1\n",
    "\n",
    "# Test out your network!\n",
    "\n",
    "dataiter = iter(testloader)\n",
    "images, labels = dataiter.next()\n",
    "img = images[0]\n",
    "# Convert 2D image to 1D vector\n",
    "img = img.resize_(1, 784)\n",
    "#Calculate the class probabilities (softmax) for img\n",
    "with torch.no_grad():\n",
    "    logps = model(img)\n",
    "ps = torch.exp(logps)\n",
    "# Plot the image and probabilities\n",
    "helper1.view_classify(img.resize_(1, 28, 28), ps, version='Fashion')"
   ]
  },
  {
   "cell_type": "code",
   "execution_count": null,
   "metadata": {},
   "outputs": [],
   "source": []
  },
  {
   "cell_type": "code",
   "execution_count": null,
   "metadata": {},
   "outputs": [],
   "source": []
  },
  {
   "cell_type": "code",
   "execution_count": null,
   "metadata": {},
   "outputs": [],
   "source": []
  }
 ],
 "metadata": {
  "kernelspec": {
   "display_name": "Python 3",
   "language": "python",
   "name": "python3"
  },
  "language_info": {
   "codemirror_mode": {
    "name": "ipython",
    "version": 3
   },
   "file_extension": ".py",
   "mimetype": "text/x-python",
   "name": "python",
   "nbconvert_exporter": "python",
   "pygments_lexer": "ipython3",
   "version": "3.6.8"
  }
 },
 "nbformat": 4,
 "nbformat_minor": 2
}
