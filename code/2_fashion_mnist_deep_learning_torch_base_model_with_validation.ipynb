{
 "cells": [
  {
   "cell_type": "markdown",
   "metadata": {},
   "source": [
    "## Classify Fashion MNIST\n",
    "\n",
    "Plan\n",
    "* Train a simple model\n",
    "    * Create a model\n",
    "    * Set loss function\n",
    "    * optimisation function\n",
    "    * calculate and update gradients via epoch loops\n",
    "    * in the end of each epoch calculate test accuracy\n",
    "* Validate on test data set"
   ]
  },
  {
   "cell_type": "markdown",
   "metadata": {},
   "source": [
    "### Import Dataset"
   ]
  },
  {
   "cell_type": "code",
   "execution_count": 1,
   "metadata": {},
   "outputs": [],
   "source": [
    "import torch\n",
    "from torchvision import datasets, transforms\n",
    "import helper\n",
    "import matplotlib.pyplot as plt\n",
    "import matplotlib.image as mpimg\n",
    "import numpy as np\n",
    "\n",
    "# Transformation\n",
    "transform = transforms.Compose([transforms.ToTensor(),\n",
    "                                transforms.Normalize((0.5,), (0.5,))])\n",
    "# Download and load the training data\n",
    "trainset = datasets.FashionMNIST('~/.pytorch/F_MNIST_data/', download=True, train=True, transform=transform)\n",
    "trainloader = torch.utils.data.DataLoader(trainset, batch_size=64, shuffle=True)\n",
    "\n",
    "# Download and load the test data\n",
    "testset = datasets.FashionMNIST('~/.pytorch/F_MNIST_data/', download=True, train=False, transform=transform)\n",
    "testloader = torch.utils.data.DataLoader(testset, batch_size=64, shuffle=True)"
   ]
  },
  {
   "cell_type": "markdown",
   "metadata": {},
   "source": [
    "> NOTE: images will be flattened from 28 by 28 to 28X28"
   ]
  },
  {
   "cell_type": "markdown",
   "metadata": {},
   "source": [
    "> Image batch shape : there are 64 images with the shape of 28 pixels by 28 pixels"
   ]
  },
  {
   "cell_type": "code",
   "execution_count": 2,
   "metadata": {},
   "outputs": [],
   "source": [
    "image,label = next(iter(testloader))"
   ]
  },
  {
   "cell_type": "markdown",
   "metadata": {},
   "source": [
    "## Network Design"
   ]
  },
  {
   "cell_type": "code",
   "execution_count": 3,
   "metadata": {},
   "outputs": [
    {
     "name": "stdout",
     "output_type": "stream",
     "text": [
      "Network(\n",
      "  (fc1): Linear(in_features=784, out_features=128, bias=True)\n",
      "  (fc2): Linear(in_features=128, out_features=64, bias=True)\n",
      "  (fc3): Linear(in_features=64, out_features=32, bias=True)\n",
      "  (fc4): Linear(in_features=32, out_features=10, bias=True)\n",
      ")\n"
     ]
    }
   ],
   "source": [
    "import torch.nn.functional as F\n",
    "from torch import nn\n",
    "\n",
    "class Network(nn.Module):\n",
    "    def __init__(self,input_shape,output_shape):\n",
    "        ''' \n",
    "            args:\n",
    "                input_shape int: number of features in the input images\n",
    "                outpu_shape int: number of classes to which images will be classifed\n",
    "        '''\n",
    "        super().__init__()\n",
    "        self.input_shape = input_shape\n",
    "        self.output_shape = output_shape\n",
    "        # fully connected layers\n",
    "        self.fc1 = nn.Linear(self.input_shape, 128) # outputs 128 values (128*input_shape weights + 128 biases)\n",
    "        self.fc2 = nn.Linear(128,64)\n",
    "        self.fc3 = nn.Linear(64,32)\n",
    "        self.fc4 = nn.Linear(32, self.output_shape) \n",
    "        \n",
    "    def forward(self, x):\n",
    "        ''' Forward pass through the network, returns the output logits ''' \n",
    "        \n",
    "        # pass it through the network\n",
    "        x = self.fc1(x)\n",
    "        x = F.relu(x)\n",
    "        x = self.fc2(x)\n",
    "        x = F.relu(x)\n",
    "        x = self.fc3(x)\n",
    "        x = F.relu(x)\n",
    "        x = self.fc4(x)\n",
    "        x = F.log_softmax(x, dim=1)\n",
    "        \n",
    "        return x\n",
    "sample_image = image.view(image.shape[0], -1)# flatten the sample image\n",
    "model = Network(input_shape = sample_image.shape[1],output_shape=10)\n",
    "print(model)"
   ]
  },
  {
   "cell_type": "markdown",
   "metadata": {},
   "source": [
    "## Set Loss and Optimizer"
   ]
  },
  {
   "cell_type": "code",
   "execution_count": 4,
   "metadata": {},
   "outputs": [],
   "source": [
    "from torch import optim\n",
    "criterion = nn.NLLLoss() # Loss function Negative log likelyhood loss\n",
    "optimizer = optim.Adam(model.parameters(), lr=0.01) #  learning rate 0.003"
   ]
  },
  {
   "cell_type": "markdown",
   "metadata": {},
   "source": [
    "> Note: soft_max activation cannot be used with NLLLoss loss function instead log_softmax was used"
   ]
  },
  {
   "cell_type": "markdown",
   "metadata": {},
   "source": [
    "## Train the model"
   ]
  },
  {
   "cell_type": "code",
   "execution_count": 5,
   "metadata": {},
   "outputs": [],
   "source": [
    "def accuracy(y_hat_tensor,label_tensor):\n",
    "    '''\n",
    "    args:\n",
    "        y_hat_tensor tensor: direct output of the model. \n",
    "        label_tensor tensor: actual labels of the given items\n",
    "    returns:\n",
    "        accuracy float\n",
    "        accurate float: number of accurately labeled items\n",
    "        total_samples float : number of samples investigated\n",
    "    '''\n",
    "    y_hat_tensor = torch.exp(y_hat_tensor)\n",
    "    values, pred_labels = y_hat_tensor.max(1) # works like numpy argmax plus returns the values of the cells.\n",
    "    accurate = sum(1 for a, b in zip(pred_labels.numpy(), label_tensor.numpy()) if a == b)\n",
    "    total_samples = len(label_tensor)\n",
    "    accuracy = accurate/total_samples\n",
    "    return accuracy,accurate,total_samples\n"
   ]
  },
  {
   "cell_type": "code",
   "execution_count": 6,
   "metadata": {},
   "outputs": [
    {
     "name": "stdout",
     "output_type": "stream",
     "text": [
      "---------- epoch : 0 -----------\n",
      " Training Accuracy = 0.7957666666666666  - Training Loss = 527.3789768517017\n",
      " Test Accuracy = 0.8125 \n",
      "---------- epoch : 1 -----------\n",
      " Training Accuracy = 0.8416166666666667  - Training Loss = 427.8972242176533\n",
      " Test Accuracy = 0.9375 \n",
      "---------- epoch : 2 -----------\n",
      " Training Accuracy = 0.8518833333333333  - Training Loss = 399.2098219692707\n",
      " Test Accuracy = 0.8125 \n",
      "---------- epoch : 3 -----------\n",
      " Training Accuracy = 0.8559166666666667  - Training Loss = 382.9734916239977\n",
      " Test Accuracy = 0.9375 \n",
      "---------- epoch : 4 -----------\n",
      " Training Accuracy = 0.8581  - Training Loss = 379.7462563216686\n",
      " Test Accuracy = 0.9375 \n",
      "---------- epoch : 5 -----------\n",
      " Training Accuracy = 0.8569833333333333  - Training Loss = 381.443782992661\n",
      " Test Accuracy = 0.9375 \n",
      "---------- epoch : 6 -----------\n",
      " Training Accuracy = 0.8691  - Training Loss = 353.2704054415226\n",
      " Test Accuracy = 0.9375 \n",
      "---------- epoch : 7 -----------\n",
      " Training Accuracy = 0.8672  - Training Loss = 353.02206376194954\n",
      " Test Accuracy = 1.0 \n",
      "---------- epoch : 8 -----------\n",
      " Training Accuracy = 0.8706166666666667  - Training Loss = 351.72979025542736\n",
      " Test Accuracy = 0.9375 \n",
      "---------- epoch : 9 -----------\n",
      " Training Accuracy = 0.86875  - Training Loss = 349.58084136247635\n",
      " Test Accuracy = 0.8125 \n"
     ]
    }
   ],
   "source": [
    "epochs = 10\n",
    "epoch = 0\n",
    "for e in range(epochs):\n",
    "    running_loss = 0\n",
    "    total_accurate = 0\n",
    "    total_samples = 0\n",
    "    for images, labels in trainloader:\n",
    "        #flaten the images\n",
    "        images = images.view(images.shape[0], -1)\n",
    "        # Training pass\n",
    "        output = model(images) # directly passes the images into forward method\n",
    "        loss = criterion(output, labels)\n",
    "        optimizer.zero_grad()\n",
    "        loss.backward()\n",
    "        optimizer.step()\n",
    "        \n",
    "        batch_train_accuracy,accurate,total_sample = accuracy(output,labels)\n",
    "        running_loss += loss.item()\n",
    "        total_accurate += accurate\n",
    "        total_samples += total_sample\n",
    "    else:\n",
    "        with torch.no_grad():\n",
    "            for images, labels in testloader:\n",
    "                images = images.view(images.shape[0], -1)\n",
    "                output = model(images)\n",
    "                test_accuracy,_,_ = accuracy(output,labels)\n",
    "        print('''---------- epoch : {} -----------'''.format(epoch))\n",
    "        print(''' Training Accuracy = {}  - Training Loss = {}'''.format(total_accurate/total_samples,running_loss))\n",
    "        print(''' Test Accuracy = {} '''.format(test_accuracy))\n",
    "        epoch += 1"
   ]
  },
  {
   "cell_type": "markdown",
   "metadata": {},
   "source": [
    "## Display Results"
   ]
  },
  {
   "cell_type": "code",
   "execution_count": 16,
   "metadata": {},
   "outputs": [
    {
     "data": {
      "image/png": "[encoded data removed]",
      "text/plain": [
       "<Figure size 432x648 with 2 Axes>"
      ]
     },
     "metadata": {
      "image/png": {
       "height": 216,
       "width": 424
      },
      "needs_background": "light"
     },
     "output_type": "display_data"
    }
   ],
   "source": [
    "%matplotlib inline\n",
    "%config InlineBackend.figure_format = 'retina'\n",
    "\n",
    "import helper1\n",
    "\n",
    "# Test out your network!\n",
    "\n",
    "dataiter = iter(testloader)\n",
    "images, labels = dataiter.next()\n",
    "img = images[0]\n",
    "# Convert 2D image to 1D vector\n",
    "img = img.resize_(1, 784)\n",
    "#Calculate the class probabilities (softmax) for img\n",
    "with torch.no_grad():\n",
    "    logps = model(img)\n",
    "ps = torch.exp(logps)\n",
    "# Plot the image and probabilities\n",
    "helper1.view_classify(img.resize_(1, 28, 28), ps, version='Fashion')"
   ]
  },
  {
   "cell_type": "code",
   "execution_count": null,
   "metadata": {},
   "outputs": [],
   "source": []
  },
  {
   "cell_type": "code",
   "execution_count": null,
   "metadata": {},
   "outputs": [],
   "source": []
  },
  {
   "cell_type": "code",
   "execution_count": null,
   "metadata": {},
   "outputs": [],
   "source": []
  }
 ],
 "metadata": {
  "kernelspec": {
   "display_name": "Python 3",
   "language": "python",
   "name": "python3"
  },
  "language_info": {
   "codemirror_mode": {
    "name": "ipython",
    "version": 3
   },
   "file_extension": ".py",
   "mimetype": "text/x-python",
   "name": "python",
   "nbconvert_exporter": "python",
   "pygments_lexer": "ipython3",
   "version": "3.6.8"
  }
 },
 "nbformat": 4,
 "nbformat_minor": 2
}
