{
 "cells": [
  {
   "cell_type": "code",
   "execution_count": 1,
   "metadata": {},
   "outputs": [],
   "source": [
    "import torch\n",
    "from torchvision import datasets, transforms\n",
    "import helper\n",
    "import matplotlib.pyplot as plt\n",
    "import matplotlib.image as mpimg\n",
    "import numpy as np\n",
    "from network import Network"
   ]
  },
  {
   "cell_type": "markdown",
   "metadata": {},
   "source": [
    "##### load model"
   ]
  },
  {
   "cell_type": "code",
   "execution_count": 2,
   "metadata": {},
   "outputs": [],
   "source": [
    "checkpoint = torch.load('..\\models\\\\4_sample_model.pth')"
   ]
  },
  {
   "cell_type": "code",
   "execution_count": 3,
   "metadata": {
    "scrolled": true
   },
   "outputs": [
    {
     "data": {
      "text/plain": [
       "dict_keys(['input_size', 'output_size', 'hidden_layers', 'state_dict'])"
      ]
     },
     "execution_count": 3,
     "metadata": {},
     "output_type": "execute_result"
    }
   ],
   "source": [
    "checkpoint.keys()"
   ]
  },
  {
   "cell_type": "code",
   "execution_count": 4,
   "metadata": {},
   "outputs": [],
   "source": [
    "input_size = checkpoint['input_size']\n",
    "output_size = checkpoint['output_size']\n",
    "hidden_layers = checkpoint['hidden_layers']\n",
    "state_dict = checkpoint['state_dict']"
   ]
  },
  {
   "cell_type": "code",
   "execution_count": 5,
   "metadata": {},
   "outputs": [
    {
     "data": {
      "text/plain": [
       "<All keys matched successfully>"
      ]
     },
     "execution_count": 5,
     "metadata": {},
     "output_type": "execute_result"
    }
   ],
   "source": [
    "model = Network(input_size,output_size,hidden_layers)\n",
    "model.load_state_dict(checkpoint['state_dict'])"
   ]
  },
  {
   "cell_type": "code",
   "execution_count": 6,
   "metadata": {},
   "outputs": [
    {
     "data": {
      "text/plain": [
       "Network(\n",
       "  (layers): ModuleList(\n",
       "    (0): Linear(in_features=784, out_features=128, bias=True)\n",
       "    (1): Linear(in_features=128, out_features=64, bias=True)\n",
       "    (2): Linear(in_features=64, out_features=32, bias=True)\n",
       "    (3): Linear(in_features=32, out_features=10, bias=True)\n",
       "  )\n",
       ")"
      ]
     },
     "execution_count": 6,
     "metadata": {},
     "output_type": "execute_result"
    }
   ],
   "source": [
    "model"
   ]
  },
  {
   "cell_type": "code",
   "execution_count": 7,
   "metadata": {},
   "outputs": [
    {
     "data": {
      "text/plain": [
       "OrderedDict([('layers.0.weight',\n",
       "              tensor([[0.1706, 0.1944, 0.1902,  ..., 0.2872, 0.2750, 0.1758],\n",
       "                      [0.2243, 0.2366, 0.2358,  ..., 0.3288, 0.2077, 0.2067],\n",
       "                      [0.1340, 0.1272, 0.1629,  ..., 0.1362, 0.1599, 0.1466],\n",
       "                      ...,\n",
       "                      [0.3212, 0.3235, 0.2614,  ..., 0.2259, 0.2245, 0.2772],\n",
       "                      [0.0643, 0.0645, 0.1017,  ..., 0.1103, 0.0769, 0.1007],\n",
       "                      [0.1082, 0.0696, 0.0609,  ..., 0.2561, 0.0828, 0.1015]])),\n",
       "             ('layers.0.bias',\n",
       "              tensor([-0.1478, -0.2211, -0.1639, -0.2107, -0.0302, -0.2076, -0.1014, -0.2314,\n",
       "                      -0.0984, -0.0848, -0.0609, -0.1328, -0.0869, -0.1039, -0.0965, -0.1375,\n",
       "                      -0.2348, -0.5515, -0.1796, -0.3863, -0.1603, -0.1185, -0.1224, -0.1049,\n",
       "                      -0.1061, -0.3290, -0.1055, -0.2503, -0.2059, -0.1349, -0.2749, -0.3869,\n",
       "                      -0.6780, -0.1488, -0.0614, -0.4729, -0.0582, -0.1908, -0.3149, -0.0933,\n",
       "                      -0.0651, -0.1106, -0.5111, -0.0975, -0.2135, -0.1189, -0.2135, -0.1728,\n",
       "                      -0.0745, -0.1267, -0.1785, -0.3167, -0.2335, -0.1850, -0.0375,  0.2996,\n",
       "                      -0.1299, -0.1954, -0.0781, -0.1539, -0.1604, -0.2099, -0.1864, -0.1217,\n",
       "                      -0.1537, -0.1153, -0.1162, -0.0446, -0.3057, -0.0492, -0.1928, -0.3685,\n",
       "                      -0.3818, -0.4029, -0.1246,  0.0244, -0.0820, -0.1209,  0.0577, -0.0739,\n",
       "                      -0.1304,  0.0657, -0.1235, -0.2100, -0.0943, -0.1453, -0.1943, -0.2508,\n",
       "                      -0.2594, -0.1073, -0.2433, -0.1366, -0.1691, -0.1362, -0.2517, -0.1842,\n",
       "                      -0.1883, -0.2052,  0.0764, -0.1991, -0.0885, -0.1097, -0.0897, -0.2073,\n",
       "                      -0.1060, -0.4563, -0.3282, -0.1715, -0.0675, -0.0919, -0.0356, -0.0249,\n",
       "                      -0.1302, -0.3153, -0.1138, -0.0842, -0.1507, -0.2522,  0.0063, -0.2158,\n",
       "                      -0.2627, -0.1437, -0.0708, -0.2191, -0.1134, -0.3034, -0.0640, -0.0996])),\n",
       "             ('layers.1.weight',\n",
       "              tensor([[-0.1285, -0.1247, -0.0951,  ..., -0.0882, -0.0176, -0.0982],\n",
       "                      [-0.1404, -0.2817, -0.0722,  ..., -0.1177, -0.0572, -0.4252],\n",
       "                      [-0.1253, -0.0245, -0.0512,  ..., -0.3985, -0.1746, -0.3675],\n",
       "                      ...,\n",
       "                      [ 0.0185,  0.0930, -0.0343,  ..., -0.6066, -0.0968, -0.8446],\n",
       "                      [ 0.0786, -0.6412, -0.0335,  ...,  0.2337,  0.0488, -0.5728],\n",
       "                      [-0.0298, -0.2705,  0.1366,  ..., -0.0765, -0.0660, -0.1890]])),\n",
       "             ('layers.1.bias',\n",
       "              tensor([-0.1177, -0.9478, -0.7583, -0.3853,  0.0731, -0.3386, -0.3016, -0.4307,\n",
       "                       0.2706, -0.0653,  0.2506, -0.5849,  0.2050, -0.2436, -0.6209,  0.1703,\n",
       "                      -0.2221, -0.3852, -0.3087, -0.3108, -0.3984, -0.3148, -0.3413, -0.5401,\n",
       "                       0.4172, -0.1802, -0.5026, -0.0722,  0.2413, -0.1085,  0.1227, -0.0541,\n",
       "                       0.2249, -0.2370, -0.5758, -0.1283, -0.3983, -0.4212, -0.7542,  0.2834,\n",
       "                      -0.0614,  0.4344,  0.2869,  0.0419, -0.1531, -0.5281, -0.3087,  0.2080,\n",
       "                      -0.3280, -0.1884, -0.5381, -0.3862, -0.0465, -0.2353, -0.1805, -0.0564,\n",
       "                      -0.0993, -0.9545, -0.5649, -0.1690, -0.7554, -0.3145, -0.4417, -0.2133])),\n",
       "             ('layers.2.weight',\n",
       "              tensor([[-0.0763, -0.1420,  0.1334,  ..., -0.2778, -0.0427,  0.3607],\n",
       "                      [ 0.0579, -0.0209,  0.3809,  ..., -0.1511,  0.2223,  0.0792],\n",
       "                      [-0.0160, -0.3547,  0.1403,  ..., -0.0490, -0.1270, -0.0450],\n",
       "                      ...,\n",
       "                      [-0.1405, -0.0216,  0.4271,  ..., -0.2127, -0.2987, -0.2364],\n",
       "                      [ 0.3060,  0.2010, -0.1332,  ..., -0.2145, -0.1495, -0.0047],\n",
       "                      [-0.1828, -0.0572, -0.0527,  ..., -0.3640,  0.1373,  0.0423]])),\n",
       "             ('layers.2.bias',\n",
       "              tensor([-1.0620,  0.3461, -0.0109, -0.3402,  1.1044,  0.0548,  1.0186, -0.3566,\n",
       "                       0.4214,  1.0462,  0.1044,  0.5415,  0.1332, -0.0349, -0.4325,  0.7275,\n",
       "                      -0.1408,  0.7956, -0.0954, -0.3033, -0.2183,  1.1636, -0.7662, -0.2544,\n",
       "                      -0.6959,  0.5001, -0.2365, -0.3108, -0.0024, -0.1994,  1.1757, -0.5414])),\n",
       "             ('layers.3.weight',\n",
       "              tensor([[-4.7884e-01,  1.3255e-03, -1.0417e-01, -2.2148e-01,  1.4735e-01,\n",
       "                       -7.9698e-02,  2.2022e-01,  7.8446e-02, -3.0675e-02,  1.9451e-02,\n",
       "                       -3.4444e-01,  6.5040e-02, -9.1029e-02, -7.3153e-01, -7.3404e-02,\n",
       "                        2.6304e-01, -1.2987e-01, -1.8627e-01, -8.9174e-02, -1.8302e-01,\n",
       "                       -1.6819e-01, -2.2616e-01, -4.0791e-01, -3.8889e-02, -2.2181e-01,\n",
       "                        2.5664e-02, -3.2549e-01, -1.8086e-01, -3.0482e-01,  2.2139e-02,\n",
       "                        2.7778e-01, -3.9687e-01],\n",
       "                      [-7.2927e-01,  2.5083e-01,  1.2141e-01, -4.1047e-01,  1.8559e-02,\n",
       "                       -5.9714e-01, -5.3289e-01,  1.8514e-02, -6.8146e-04, -2.3365e-01,\n",
       "                       -8.7665e-01, -1.7766e-01,  5.7530e-03, -7.0877e-01,  3.7943e-02,\n",
       "                        2.5670e-02, -1.7929e-01, -1.3226e-01, -2.2909e-01,  2.9334e-03,\n",
       "                        3.8494e-02, -3.1492e-01, -1.0415e+00, -2.7230e-01, -3.8698e-01,\n",
       "                        1.7055e-01, -2.0392e-01, -1.0782e-01, -2.4893e-01, -2.8521e-01,\n",
       "                       -3.3530e-02, -2.2738e-01],\n",
       "                      [-1.6011e-01,  4.0786e-02, -7.9717e-03, -4.0363e-01,  9.8163e-02,\n",
       "                       -1.3247e-02, -6.4898e-03, -1.6446e-01, -5.9920e-02, -5.5815e-02,\n",
       "                       -2.0696e-01,  1.2846e-01, -2.3710e-01, -8.7376e-01, -3.9554e-01,\n",
       "                        2.1338e-01, -9.2878e-02,  6.8543e-02,  3.7660e-02,  1.8516e-01,\n",
       "                       -5.1691e-02,  2.9135e-01, -3.0850e-01,  1.8214e-01, -7.3597e-01,\n",
       "                       -2.8801e-01,  4.3311e-01, -7.3793e-02, -5.8544e-01,  1.4524e-01,\n",
       "                       -2.2600e-01, -1.2887e-01],\n",
       "                      [-4.2406e-01,  9.0096e-02, -1.1007e-01, -2.8447e-01,  1.6055e-01,\n",
       "                       -4.8236e-02, -2.7358e-01,  1.5871e-02,  1.8662e-01, -2.5991e-01,\n",
       "                       -4.8460e-01, -1.1565e-01,  4.8815e-02, -7.7858e-01, -8.9184e-02,\n",
       "                        4.3338e-04, -3.4561e-01,  1.2811e-02, -1.7117e-01, -3.0039e-01,\n",
       "                       -2.6342e-01, -1.9786e-01, -2.0437e-01, -3.2875e-01, -6.7381e-01,\n",
       "                        1.0866e-01, -3.1951e-01, -1.7396e-01, -2.5161e-01,  1.0175e-01,\n",
       "                        4.1701e-02, -9.4962e-01],\n",
       "                      [-4.3528e-01,  5.3058e-03, -5.2615e-02, -5.0089e-01, -7.7728e-02,\n",
       "                        1.5562e-01, -4.1749e-02,  8.7848e-03,  1.1863e-01,  3.6489e-03,\n",
       "                       -5.3904e-01, -9.4982e-02, -2.0674e-01, -8.5270e-01, -3.8531e-01,\n",
       "                       -2.1955e-02, -6.7479e-02,  2.8311e-01, -1.6844e-01, -4.3169e-01,\n",
       "                       -8.8575e-02,  2.1154e-01, -2.1634e-01,  3.0897e-02, -1.0126e+00,\n",
       "                       -3.0347e-01, -2.2503e-01,  1.8252e-01, -4.2131e-01,  1.2437e-01,\n",
       "                       -1.0731e-01, -1.3906e-01],\n",
       "                      [-4.4712e-01, -4.5351e-01, -1.8705e-02, -1.4945e-01, -2.7370e-01,\n",
       "                       -3.4473e-01, -6.5534e-01, -4.4305e-01, -3.2713e-01, -9.7128e-02,\n",
       "                        1.3477e-01, -4.6639e-02, -4.0497e-02, -6.7251e-02,  1.7115e-01,\n",
       "                       -6.9853e-01,  1.8968e-01, -7.8478e-01,  7.1987e-03,  1.6595e-01,\n",
       "                        2.0276e-01, -1.0615e+00, -2.0447e-01,  4.8688e-02, -1.5233e-01,\n",
       "                       -4.5009e-01, -3.6284e-02,  9.4725e-02,  1.3797e-01,  9.0750e-02,\n",
       "                       -8.9326e-01, -1.1488e+00],\n",
       "                      [-2.4348e-01, -2.2061e-02, -3.2555e-02, -7.6501e-01,  1.8691e-01,\n",
       "                        1.8989e-01,  2.6987e-01,  1.0096e-01, -8.9922e-02,  9.1517e-03,\n",
       "                       -3.2065e-01,  2.2983e-01, -1.9218e-01, -5.4634e-01, -1.8952e-01,\n",
       "                        1.4271e-01, -3.7474e-01, -5.7096e-04, -8.9373e-02, -4.5436e-02,\n",
       "                       -1.1284e-01,  8.4704e-02,  1.6467e-01,  2.2209e-02, -1.6792e-01,\n",
       "                       -1.4643e-01,  1.2282e-01, -1.1303e-01, -3.9535e-01, -6.6499e-03,\n",
       "                        1.6828e-01, -3.2452e-01],\n",
       "                      [-2.1686e-01, -4.4918e-01,  2.1138e-02,  1.9145e-01, -4.7905e-01,\n",
       "                       -6.6311e-01, -5.1183e-01, -6.5044e-01, -5.9698e-01, -1.9136e-01,\n",
       "                        1.2618e-01, -2.4577e-01,  3.5233e-02,  1.1196e-01, -3.0605e-02,\n",
       "                       -8.0437e-01,  1.2052e-01, -8.0763e-01,  7.2876e-02, -1.1854e-01,\n",
       "                       -7.7598e-02, -1.5241e+00, -8.1350e-02, -1.8365e-01, -1.5634e-01,\n",
       "                       -5.1064e-01, -1.6666e-01, -1.3098e-01,  1.9030e-01, -3.1903e-02,\n",
       "                       -1.3681e+00, -1.0961e+00],\n",
       "                      [-2.0261e-01, -1.9085e-01, -9.9649e-02, -5.1052e-02,  9.8398e-02,\n",
       "                       -2.6116e-01,  2.6877e-02, -1.9756e-01, -1.7455e-01,  2.4921e-01,\n",
       "                       -1.3225e-01, -7.7840e-02,  1.6187e-01, -3.8508e-01,  5.6928e-02,\n",
       "                       -1.8344e-01,  5.2847e-02, -5.5694e-02,  2.2436e-02, -3.2597e-01,\n",
       "                       -1.2443e-01, -2.1213e-01, -6.3735e-02, -2.3499e-01, -3.3297e-01,\n",
       "                       -1.2934e-01, -3.2909e-02, -5.5339e-01, -1.8681e-01, -9.4116e-02,\n",
       "                       -6.4088e-01, -3.2286e-01],\n",
       "                      [ 6.5728e-02, -3.9279e-01, -1.1973e-01, -3.8671e-02, -2.7378e-01,\n",
       "                       -6.6179e-01, -3.4569e-01, -2.9785e-01, -9.1851e-01, -2.4784e-01,\n",
       "                        1.8133e-02, -4.3759e-01, -1.0237e-01,  1.9983e-01,  2.5857e-01,\n",
       "                       -5.9419e-01,  8.6943e-02, -8.0284e-01,  6.9162e-02, -3.4825e-01,\n",
       "                        1.1006e-01, -1.5289e+00, -1.5341e-01,  5.5409e-02, -4.1077e-01,\n",
       "                       -2.9596e-01, -1.3577e-01, -2.0409e-01, -5.3061e-02,  9.2653e-02,\n",
       "                       -1.0876e+00, -1.3493e+00]])),\n",
       "             ('layers.3.bias',\n",
       "              tensor([-0.2026, -0.7775,  0.1052,  0.2632, -0.2429,  0.0582,  0.3840, -0.2411,\n",
       "                       0.3515, -0.4697]))])"
      ]
     },
     "execution_count": 7,
     "metadata": {},
     "output_type": "execute_result"
    }
   ],
   "source": [
    "model.state_dict()"
   ]
  },
  {
   "cell_type": "code",
   "execution_count": 8,
   "metadata": {},
   "outputs": [
    {
     "name": "stdout",
     "output_type": "stream",
     "text": [
      "Network(\n",
      "  (layers): ModuleList(\n",
      "    (0): Linear(in_features=784, out_features=128, bias=True)\n",
      "    (1): Linear(in_features=128, out_features=64, bias=True)\n",
      "    (2): Linear(in_features=64, out_features=32, bias=True)\n",
      "    (3): Linear(in_features=32, out_features=10, bias=True)\n",
      "  )\n",
      ")\n"
     ]
    },
    {
     "data": {
      "text/plain": [
       "Network(\n",
       "  (layers): ModuleList(\n",
       "    (0): Linear(in_features=784, out_features=128, bias=True)\n",
       "    (1): Linear(in_features=128, out_features=64, bias=True)\n",
       "    (2): Linear(in_features=64, out_features=32, bias=True)\n",
       "    (3): Linear(in_features=32, out_features=10, bias=True)\n",
       "  )\n",
       ")"
      ]
     },
     "execution_count": 8,
     "metadata": {},
     "output_type": "execute_result"
    }
   ],
   "source": [
    "print(model)\n",
    "model.eval()"
   ]
  },
  {
   "cell_type": "code",
   "execution_count": 9,
   "metadata": {},
   "outputs": [],
   "source": [
    "# Transformation\n",
    "transform = transforms.Compose([transforms.ToTensor(),\n",
    "                                transforms.Normalize((0.5,), (0.5,))])\n",
    "# Download and load the training data\n",
    "trainset = datasets.FashionMNIST('~/.pytorch/F_MNIST_data/', download=True, train=True, transform=transform)\n",
    "trainloader = torch.utils.data.DataLoader(trainset, batch_size=64, shuffle=True)\n",
    "\n",
    "# Download and load the test data\n",
    "testset = datasets.FashionMNIST('~/.pytorch/F_MNIST_data/', download=True, train=False, transform=transform)\n",
    "testloader = torch.utils.data.DataLoader(testset, batch_size=64, shuffle=True)"
   ]
  },
  {
   "cell_type": "code",
   "execution_count": null,
   "metadata": {},
   "outputs": [],
   "source": [
    "%matplotlib inline\n",
    "%config InlineBackend.figure_format = 'retina'\n",
    "\n",
    "import helper1\n",
    "\n",
    "# Test out your network!\n",
    "\n",
    "dataiter = iter(testloader)\n",
    "images, labels = dataiter.next()\n",
    "img = images[0]\n",
    "# Convert 2D image to 1D vector\n",
    "img = img.resize_(1, 784)\n",
    "#Calculate the class probabilities (softmax) for img\n",
    "with torch.no_grad():\n",
    "    logps = model(img)\n",
    "ps = torch.exp(logps)\n",
    "# Plot the image and probabilities\n",
    "helper1.view_classify(img.resize_(1, 28, 28), ps, version='Fashion')"
   ]
  },
  {
   "cell_type": "code",
   "execution_count": 11,
   "metadata": {},
   "outputs": [
    {
     "data": {
      "text/plain": [
       "torch.Size([1, 10])"
      ]
     },
     "execution_count": 11,
     "metadata": {},
     "output_type": "execute_result"
    }
   ],
   "source": [
    "ps.shape"
   ]
  },
  {
   "cell_type": "code",
   "execution_count": null,
   "metadata": {},
   "outputs": [],
   "source": []
  }
 ],
 "metadata": {
  "kernelspec": {
   "display_name": "Python 3",
   "language": "python",
   "name": "python3"
  },
  "language_info": {
   "codemirror_mode": {
    "name": "ipython",
    "version": 3
   },
   "file_extension": ".py",
   "mimetype": "text/x-python",
   "name": "python",
   "nbconvert_exporter": "python",
   "pygments_lexer": "ipython3",
   "version": "3.6.8"
  }
 },
 "nbformat": 4,
 "nbformat_minor": 2
}
