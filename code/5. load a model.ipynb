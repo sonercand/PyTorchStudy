{
 "cells": [
  {
   "cell_type": "code",
   "execution_count": 5,
   "metadata": {},
   "outputs": [
    {
     "ename": "SyntaxError",
     "evalue": "invalid token (<ipython-input-5-df6973ab5923>, line 7)",
     "output_type": "error",
     "traceback": [
      "\u001b[1;36m  File \u001b[1;32m\"<ipython-input-5-df6973ab5923>\"\u001b[1;36m, line \u001b[1;32m7\u001b[0m\n\u001b[1;33m    import 4_save_pytorch_model\u001b[0m\n\u001b[1;37m            ^\u001b[0m\n\u001b[1;31mSyntaxError\u001b[0m\u001b[1;31m:\u001b[0m invalid token\n"
     ]
    }
   ],
   "source": [
    "import torch\n",
    "from torchvision import datasets, transforms\n",
    "import helper\n",
    "import matplotlib.pyplot as plt\n",
    "import matplotlib.image as mpimg\n",
    "import numpy as np\n",
    "import 4_save_pytorch_model"
   ]
  },
  {
   "cell_type": "markdown",
   "metadata": {},
   "source": [
    "##### load model"
   ]
  },
  {
   "cell_type": "code",
   "execution_count": 16,
   "metadata": {},
   "outputs": [
    {
     "ename": "AttributeError",
     "evalue": "module 'torch' has no attribute 'load_state_dict'",
     "output_type": "error",
     "traceback": [
      "\u001b[1;31m---------------------------------------------------------------------------\u001b[0m",
      "\u001b[1;31mAttributeError\u001b[0m                            Traceback (most recent call last)",
      "\u001b[1;32m<ipython-input-16-4c0d4fd6b80d>\u001b[0m in \u001b[0;36m<module>\u001b[1;34m\u001b[0m\n\u001b[1;32m----> 1\u001b[1;33m \u001b[0mstate_dict\u001b[0m \u001b[1;33m=\u001b[0m \u001b[0mtorch\u001b[0m\u001b[1;33m.\u001b[0m\u001b[0mload_state_dict\u001b[0m\u001b[1;33m(\u001b[0m\u001b[1;34m'..\\models\\\\4_sample_model.pth'\u001b[0m\u001b[1;33m)\u001b[0m\u001b[1;33m\u001b[0m\u001b[1;33m\u001b[0m\u001b[0m\n\u001b[0m",
      "\u001b[1;31mAttributeError\u001b[0m: module 'torch' has no attribute 'load_state_dict'"
     ]
    }
   ],
   "source": [
    "state_dict = torch.load_state_dict('..\\models\\\\4_sample_model.pth')"
   ]
  },
  {
   "cell_type": "code",
   "execution_count": 15,
   "metadata": {},
   "outputs": [
    {
     "ename": "AttributeError",
     "evalue": "Can't get attribute 'Network' on <module '__main__'>",
     "output_type": "error",
     "traceback": [
      "\u001b[1;31m---------------------------------------------------------------------------\u001b[0m",
      "\u001b[1;31mAttributeError\u001b[0m                            Traceback (most recent call last)",
      "\u001b[1;32m<ipython-input-15-241d84d0a8a1>\u001b[0m in \u001b[0;36m<module>\u001b[1;34m\u001b[0m\n\u001b[1;32m----> 1\u001b[1;33m \u001b[0mmodel\u001b[0m \u001b[1;33m=\u001b[0m \u001b[0mtorch\u001b[0m\u001b[1;33m.\u001b[0m\u001b[0mload\u001b[0m\u001b[1;33m(\u001b[0m\u001b[1;34m'..\\models\\\\entire_sample_model.pth'\u001b[0m\u001b[1;33m)\u001b[0m\u001b[1;33m\u001b[0m\u001b[1;33m\u001b[0m\u001b[0m\n\u001b[0m",
      "\u001b[1;32mc:\\users\\sismc\\desktop\\projects\\pytorchstudy\\pts\\lib\\site-packages\\torch\\serialization.py\u001b[0m in \u001b[0;36mload\u001b[1;34m(f, map_location, pickle_module, **pickle_load_args)\u001b[0m\n\u001b[0;32m    424\u001b[0m         \u001b[1;32mif\u001b[0m \u001b[0msys\u001b[0m\u001b[1;33m.\u001b[0m\u001b[0mversion_info\u001b[0m \u001b[1;33m>=\u001b[0m \u001b[1;33m(\u001b[0m\u001b[1;36m3\u001b[0m\u001b[1;33m,\u001b[0m \u001b[1;36m0\u001b[0m\u001b[1;33m)\u001b[0m \u001b[1;32mand\u001b[0m \u001b[1;34m'encoding'\u001b[0m \u001b[1;32mnot\u001b[0m \u001b[1;32min\u001b[0m \u001b[0mpickle_load_args\u001b[0m\u001b[1;33m.\u001b[0m\u001b[0mkeys\u001b[0m\u001b[1;33m(\u001b[0m\u001b[1;33m)\u001b[0m\u001b[1;33m:\u001b[0m\u001b[1;33m\u001b[0m\u001b[1;33m\u001b[0m\u001b[0m\n\u001b[0;32m    425\u001b[0m             \u001b[0mpickle_load_args\u001b[0m\u001b[1;33m[\u001b[0m\u001b[1;34m'encoding'\u001b[0m\u001b[1;33m]\u001b[0m \u001b[1;33m=\u001b[0m \u001b[1;34m'utf-8'\u001b[0m\u001b[1;33m\u001b[0m\u001b[1;33m\u001b[0m\u001b[0m\n\u001b[1;32m--> 426\u001b[1;33m         \u001b[1;32mreturn\u001b[0m \u001b[0m_load\u001b[0m\u001b[1;33m(\u001b[0m\u001b[0mf\u001b[0m\u001b[1;33m,\u001b[0m \u001b[0mmap_location\u001b[0m\u001b[1;33m,\u001b[0m \u001b[0mpickle_module\u001b[0m\u001b[1;33m,\u001b[0m \u001b[1;33m**\u001b[0m\u001b[0mpickle_load_args\u001b[0m\u001b[1;33m)\u001b[0m\u001b[1;33m\u001b[0m\u001b[1;33m\u001b[0m\u001b[0m\n\u001b[0m\u001b[0;32m    427\u001b[0m     \u001b[1;32mfinally\u001b[0m\u001b[1;33m:\u001b[0m\u001b[1;33m\u001b[0m\u001b[1;33m\u001b[0m\u001b[0m\n\u001b[0;32m    428\u001b[0m         \u001b[1;32mif\u001b[0m \u001b[0mnew_fd\u001b[0m\u001b[1;33m:\u001b[0m\u001b[1;33m\u001b[0m\u001b[1;33m\u001b[0m\u001b[0m\n",
      "\u001b[1;32mc:\\users\\sismc\\desktop\\projects\\pytorchstudy\\pts\\lib\\site-packages\\torch\\serialization.py\u001b[0m in \u001b[0;36m_load\u001b[1;34m(f, map_location, pickle_module, **pickle_load_args)\u001b[0m\n\u001b[0;32m    611\u001b[0m     \u001b[0munpickler\u001b[0m \u001b[1;33m=\u001b[0m \u001b[0mpickle_module\u001b[0m\u001b[1;33m.\u001b[0m\u001b[0mUnpickler\u001b[0m\u001b[1;33m(\u001b[0m\u001b[0mf\u001b[0m\u001b[1;33m,\u001b[0m \u001b[1;33m**\u001b[0m\u001b[0mpickle_load_args\u001b[0m\u001b[1;33m)\u001b[0m\u001b[1;33m\u001b[0m\u001b[1;33m\u001b[0m\u001b[0m\n\u001b[0;32m    612\u001b[0m     \u001b[0munpickler\u001b[0m\u001b[1;33m.\u001b[0m\u001b[0mpersistent_load\u001b[0m \u001b[1;33m=\u001b[0m \u001b[0mpersistent_load\u001b[0m\u001b[1;33m\u001b[0m\u001b[1;33m\u001b[0m\u001b[0m\n\u001b[1;32m--> 613\u001b[1;33m     \u001b[0mresult\u001b[0m \u001b[1;33m=\u001b[0m \u001b[0munpickler\u001b[0m\u001b[1;33m.\u001b[0m\u001b[0mload\u001b[0m\u001b[1;33m(\u001b[0m\u001b[1;33m)\u001b[0m\u001b[1;33m\u001b[0m\u001b[1;33m\u001b[0m\u001b[0m\n\u001b[0m\u001b[0;32m    614\u001b[0m \u001b[1;33m\u001b[0m\u001b[0m\n\u001b[0;32m    615\u001b[0m     \u001b[0mdeserialized_storage_keys\u001b[0m \u001b[1;33m=\u001b[0m \u001b[0mpickle_module\u001b[0m\u001b[1;33m.\u001b[0m\u001b[0mload\u001b[0m\u001b[1;33m(\u001b[0m\u001b[0mf\u001b[0m\u001b[1;33m,\u001b[0m \u001b[1;33m**\u001b[0m\u001b[0mpickle_load_args\u001b[0m\u001b[1;33m)\u001b[0m\u001b[1;33m\u001b[0m\u001b[1;33m\u001b[0m\u001b[0m\n",
      "\u001b[1;31mAttributeError\u001b[0m: Can't get attribute 'Network' on <module '__main__'>"
     ]
    }
   ],
   "source": [
    "model = torch.load('..\\models\\\\entire_sample_model.pth')\n"
   ]
  },
  {
   "cell_type": "code",
   "execution_count": 12,
   "metadata": {},
   "outputs": [
    {
     "name": "stdout",
     "output_type": "stream",
     "text": [
      "OrderedDict([('layers.0.weight', tensor([[0.2671, 0.2830, 0.3152,  ..., 0.2235, 0.2865, 0.3268],\n",
      "        [0.1537, 0.1261, 0.1710,  ..., 0.1426, 0.1506, 0.1541],\n",
      "        [0.2279, 0.2683, 0.2453,  ..., 0.2603, 0.2385, 0.2118],\n",
      "        ...,\n",
      "        [0.2813, 0.2438, 0.2844,  ..., 0.2949, 0.2924, 0.2653],\n",
      "        [0.3123, 0.2833, 0.3474,  ..., 0.3550, 0.2831, 0.3331],\n",
      "        [0.3342, 0.3850, 0.3179,  ..., 0.4102, 0.3548, 0.3216]])), ('layers.0.bias', tensor([-0.2713, -0.1515, -0.2301, -0.1260, -0.2195, -0.2040, -0.3419, -0.1514,\n",
      "        -0.1343, -0.3084, -0.3354, -0.0965, -0.1218, -0.2087, -0.6164, -0.0903,\n",
      "        -0.0831, -0.1038, -0.1511, -0.1312, -0.3579, -0.0339, -0.3100, -0.0790,\n",
      "        -0.1820, -0.1644, -0.1407, -0.1007, -0.1596, -0.0803, -0.4998, -0.2497,\n",
      "        -0.1906, -0.0814, -0.0491, -0.2197, -0.1562, -0.4825, -0.1233, -0.3761,\n",
      "         0.1624, -0.0683, -0.2730, -0.4096, -0.2186, -0.1181, -0.1450, -0.3823,\n",
      "        -0.5213, -0.3116, -0.1219, -0.5257, -0.3884, -0.1136, -0.1822,  0.0557,\n",
      "        -0.3437, -0.3607, -0.0264, -0.3353, -0.1650, -0.2119, -0.1791, -0.1878,\n",
      "        -0.3577, -0.1554, -0.1894,  0.0302, -0.1712, -0.0673, -0.3261, -0.0719,\n",
      "        -0.2362, -0.2046, -0.0875, -0.3702, -0.1971, -0.1909, -0.1003, -0.0736,\n",
      "        -0.0975,  0.0050, -0.2996, -0.2504, -0.1334, -0.0902, -0.0681, -0.0759,\n",
      "        -0.1135, -0.2253, -0.1368, -0.2457, -0.0539, -0.1972, -0.5305, -0.4412,\n",
      "        -0.1039, -0.1063, -0.0985, -0.5178, -0.1599, -0.1487, -0.1651, -0.2422,\n",
      "        -0.0848, -0.3511, -0.4873,  0.6701, -0.1252, -0.0843, -0.1106, -0.2013,\n",
      "        -0.2662, -0.0789, -0.1125, -0.1411, -0.0211, -0.2435, -0.1907, -0.2165,\n",
      "        -0.3309, -0.1153, -0.1092, -0.5834, -0.3507, -0.2761, -0.3465, -0.3847])), ('layers.1.weight', tensor([[-9.7646e-02,  2.1491e-02, -1.9391e-01,  ..., -1.4445e-01,\n",
      "          3.7289e-02, -8.9337e-02],\n",
      "        [-1.8439e-02, -1.2315e-03, -1.1301e-01,  ..., -3.0354e-02,\n",
      "         -6.8701e-02, -8.9014e-02],\n",
      "        [-5.3940e-02, -5.5402e-02, -1.8407e-01,  ...,  7.8129e-02,\n",
      "         -1.3122e-02, -7.5567e-01],\n",
      "        ...,\n",
      "        [ 1.2828e-01,  1.8308e-02, -2.6932e-02,  ..., -2.7314e-01,\n",
      "          5.9252e-02,  2.5315e-04],\n",
      "        [-6.2549e-02, -9.7511e-02, -8.1955e-02,  ..., -3.8067e-01,\n",
      "         -9.5936e-02, -4.1897e-01],\n",
      "        [ 7.3200e-02, -8.3262e-02,  1.8766e-02,  ..., -8.2208e-02,\n",
      "         -1.1809e-01, -1.4463e-01]])), ('layers.1.bias', tensor([ 0.0138, -0.1558, -0.5022, -1.1600, -0.3680, -0.3439, -0.0897, -1.1270,\n",
      "        -0.2033, -0.3984, -0.3375, -0.4144, -0.4390, -0.5967, -1.8354, -0.2981,\n",
      "        -0.2576,  1.1849, -0.5580, -0.3697, -1.1312,  1.8615, -0.5924, -0.0554,\n",
      "        -0.2761,  1.4240, -0.4935,  0.9775, -0.2672, -0.4482, -0.3880, -0.4793,\n",
      "        -0.4212, -0.5279,  0.5300, -0.0917, -0.0036, -0.5894, -0.1834, -0.1103,\n",
      "        -0.3148,  0.3117,  1.0366, -0.2780, -0.2902, -0.8065,  0.1453, -0.0950,\n",
      "        -0.4129, -0.1357, -0.1637,  0.5918,  0.4682,  0.2992, -0.0696, -0.3846,\n",
      "        -0.9299, -0.0891, -0.3673,  0.2436, -0.6699,  0.3533, -0.6793,  0.0127])), ('layers.2.weight', tensor([[-0.1244, -0.1321, -0.0876,  ..., -0.0700, -0.0532,  0.1496],\n",
      "        [ 0.0838, -0.1406, -0.0252,  ..., -0.3951, -0.1613,  0.0851],\n",
      "        [-0.0037,  0.0976, -0.4759,  ..., -0.0837,  0.1376, -0.1413],\n",
      "        ...,\n",
      "        [-0.2137, -0.6631, -0.3643,  ..., -0.9661, -0.1352, -0.4652],\n",
      "        [-0.2427, -0.3630, -0.6745,  ..., -1.2952, -0.1686, -0.8976],\n",
      "        [-0.1486, -0.4019, -0.4194,  ..., -1.0241, -0.0552, -0.7046]])), ('layers.2.bias', tensor([-0.1842, -0.9197,  0.5417,  0.0675,  0.0886,  0.4765,  0.3647,  0.1011,\n",
      "         0.6731, -0.5453, -2.2656, -2.4583, -2.4767, -2.3530, -2.4994, -2.3447,\n",
      "        -2.4711, -2.4916, -2.2939, -2.5437, -2.4433, -2.3764, -2.4436, -2.4883,\n",
      "        -2.3538, -2.6013, -2.3706, -2.4897, -2.3183, -2.4934, -2.4424, -2.3152])), ('layers.3.weight', tensor([[-0.0612,  0.1031, -0.1264, -0.0534,  0.1393,  0.1297,  0.1054, -0.1460,\n",
      "          0.1073,  0.0175, -0.0006, -0.0720, -0.0955,  0.1461, -0.1512, -0.0117,\n",
      "          0.0838,  0.0440,  0.0017, -0.0359,  0.1067,  0.0844, -0.1687, -0.1411,\n",
      "         -0.0214, -0.1696,  0.0046,  0.1233,  0.1082, -0.1759, -0.0789,  0.1317],\n",
      "        [-0.1267, -0.1400, -0.0086, -0.0566,  0.0075,  0.0628,  0.1640, -0.1008,\n",
      "         -0.0742, -0.1537,  0.0301, -0.0695, -0.0844, -0.1454,  0.0325, -0.1183,\n",
      "         -0.0418, -0.1213, -0.0074, -0.0705, -0.0515,  0.0911,  0.1043,  0.0114,\n",
      "         -0.1661,  0.0534, -0.0438,  0.0780, -0.0693, -0.0695, -0.1084, -0.1635],\n",
      "        [ 0.0581, -0.1757,  0.0956, -0.0303, -0.1633,  0.1514, -0.0425,  0.1193,\n",
      "          0.1464,  0.0678, -0.1081, -0.0295, -0.1342, -0.0445, -0.0567, -0.0591,\n",
      "         -0.1735,  0.1617,  0.0399, -0.0906, -0.1205,  0.1016,  0.0419,  0.0843,\n",
      "          0.1657, -0.0590,  0.1726, -0.0410, -0.0431,  0.0075, -0.1398, -0.0849],\n",
      "        [-0.0627,  0.1207,  0.1621,  0.1222,  0.0631, -0.0854, -0.0248,  0.0816,\n",
      "         -0.0948, -0.0122, -0.1549,  0.0920,  0.1715,  0.0483,  0.0127,  0.0608,\n",
      "          0.0278, -0.0773,  0.0858, -0.1264, -0.1087, -0.0033, -0.0564, -0.0772,\n",
      "         -0.0596,  0.1015, -0.1068, -0.0139, -0.0168,  0.1532, -0.1537, -0.1411],\n",
      "        [-0.0126, -0.1458, -0.0996, -0.1024, -0.1483,  0.0799,  0.1671,  0.0362,\n",
      "          0.1700,  0.0918,  0.0434,  0.0644,  0.1343, -0.0267,  0.0725, -0.1025,\n",
      "          0.1481, -0.0329,  0.1343,  0.1423,  0.0677, -0.1542,  0.0054,  0.1350,\n",
      "         -0.0885, -0.0066,  0.0719,  0.1358, -0.1550,  0.1140, -0.1226, -0.1218],\n",
      "        [-0.0411, -0.0438,  0.1621, -0.0377, -0.0329,  0.1094, -0.0764,  0.1364,\n",
      "         -0.0062, -0.0845, -0.1521,  0.0413, -0.1160, -0.0407, -0.1520, -0.1206,\n",
      "         -0.1341,  0.1253, -0.1207, -0.0470,  0.1200,  0.0803,  0.0607, -0.0092,\n",
      "          0.1113, -0.0920, -0.1270,  0.0510,  0.0769, -0.1380, -0.0870, -0.1445],\n",
      "        [-0.0139,  0.0113,  0.1672, -0.1360, -0.1193, -0.1633, -0.1720, -0.0534,\n",
      "         -0.0567, -0.0574, -0.0795,  0.0207, -0.0031,  0.1515, -0.1676,  0.0574,\n",
      "         -0.1523, -0.0582, -0.1166,  0.1341,  0.0706,  0.0930,  0.0506,  0.1478,\n",
      "          0.0800,  0.0991, -0.1277, -0.0111,  0.1660, -0.1389, -0.0413, -0.1766],\n",
      "        [-0.0387, -0.0503,  0.1560,  0.0407, -0.0655, -0.1666, -0.1640,  0.0195,\n",
      "         -0.0971,  0.0430, -0.0233, -0.1375, -0.1231,  0.0605,  0.0045, -0.0555,\n",
      "         -0.1003, -0.0351, -0.1019, -0.0418, -0.1390,  0.1116,  0.0941, -0.0277,\n",
      "          0.0383,  0.1749,  0.1728,  0.1276,  0.0825, -0.0162, -0.1457,  0.0160],\n",
      "        [-0.1584, -0.0066, -0.0192, -0.1190,  0.1190, -0.0781, -0.0426, -0.0272,\n",
      "         -0.1716,  0.1632, -0.1041,  0.1385, -0.0548, -0.0374,  0.0106, -0.1163,\n",
      "         -0.1587,  0.0408,  0.1460,  0.1284, -0.1331,  0.0494,  0.1479,  0.1524,\n",
      "          0.0657,  0.1124, -0.0241, -0.0402,  0.1695,  0.0615, -0.1004,  0.0300],\n",
      "        [ 0.0888,  0.0713,  0.1702,  0.0809,  0.1275, -0.1761,  0.0657,  0.0726,\n",
      "          0.0202, -0.0060, -0.0187, -0.1073,  0.1656, -0.0530, -0.0480,  0.0621,\n",
      "         -0.1321,  0.0029, -0.1425, -0.1395,  0.0712, -0.0704,  0.1356,  0.1498,\n",
      "          0.0149, -0.1277, -0.1315, -0.0589,  0.1566, -0.1660, -0.0641, -0.1624]])), ('layers.3.bias', tensor([ 0.0710,  0.0925, -0.0127,  0.1345,  0.1558,  0.1375,  0.1407,  0.0141,\n",
      "        -0.1035,  0.1241]))])\n"
     ]
    }
   ],
   "source": [
    "print(model)\n"
   ]
  },
  {
   "cell_type": "code",
   "execution_count": 13,
   "metadata": {},
   "outputs": [],
   "source": [
    "# Transformation\n",
    "transform = transforms.Compose([transforms.ToTensor(),\n",
    "                                transforms.Normalize((0.5,), (0.5,))])\n",
    "# Download and load the training data\n",
    "trainset = datasets.FashionMNIST('~/.pytorch/F_MNIST_data/', download=True, train=True, transform=transform)\n",
    "trainloader = torch.utils.data.DataLoader(trainset, batch_size=64, shuffle=True)\n",
    "\n",
    "# Download and load the test data\n",
    "testset = datasets.FashionMNIST('~/.pytorch/F_MNIST_data/', download=True, train=False, transform=transform)\n",
    "testloader = torch.utils.data.DataLoader(testset, batch_size=64, shuffle=True)"
   ]
  },
  {
   "cell_type": "code",
   "execution_count": 14,
   "metadata": {},
   "outputs": [
    {
     "ename": "TypeError",
     "evalue": "'collections.OrderedDict' object is not callable",
     "output_type": "error",
     "traceback": [
      "\u001b[1;31m---------------------------------------------------------------------------\u001b[0m",
      "\u001b[1;31mTypeError\u001b[0m                                 Traceback (most recent call last)",
      "\u001b[1;32m<ipython-input-14-e65438cdd593>\u001b[0m in \u001b[0;36m<module>\u001b[1;34m\u001b[0m\n\u001b[0;32m     13\u001b[0m \u001b[1;31m#Calculate the class probabilities (softmax) for img\u001b[0m\u001b[1;33m\u001b[0m\u001b[1;33m\u001b[0m\u001b[1;33m\u001b[0m\u001b[0m\n\u001b[0;32m     14\u001b[0m \u001b[1;32mwith\u001b[0m \u001b[0mtorch\u001b[0m\u001b[1;33m.\u001b[0m\u001b[0mno_grad\u001b[0m\u001b[1;33m(\u001b[0m\u001b[1;33m)\u001b[0m\u001b[1;33m:\u001b[0m\u001b[1;33m\u001b[0m\u001b[1;33m\u001b[0m\u001b[0m\n\u001b[1;32m---> 15\u001b[1;33m     \u001b[0mlogps\u001b[0m \u001b[1;33m=\u001b[0m \u001b[0mmodel\u001b[0m\u001b[1;33m(\u001b[0m\u001b[0mimg\u001b[0m\u001b[1;33m)\u001b[0m\u001b[1;33m\u001b[0m\u001b[1;33m\u001b[0m\u001b[0m\n\u001b[0m\u001b[0;32m     16\u001b[0m \u001b[0mps\u001b[0m \u001b[1;33m=\u001b[0m \u001b[0mtorch\u001b[0m\u001b[1;33m.\u001b[0m\u001b[0mexp\u001b[0m\u001b[1;33m(\u001b[0m\u001b[0mlogps\u001b[0m\u001b[1;33m)\u001b[0m\u001b[1;33m\u001b[0m\u001b[1;33m\u001b[0m\u001b[0m\n\u001b[0;32m     17\u001b[0m \u001b[1;31m# Plot the image and probabilities\u001b[0m\u001b[1;33m\u001b[0m\u001b[1;33m\u001b[0m\u001b[1;33m\u001b[0m\u001b[0m\n",
      "\u001b[1;31mTypeError\u001b[0m: 'collections.OrderedDict' object is not callable"
     ]
    }
   ],
   "source": [
    "%matplotlib inline\n",
    "%config InlineBackend.figure_format = 'retina'\n",
    "\n",
    "import helper1\n",
    "\n",
    "# Test out your network!\n",
    "\n",
    "dataiter = iter(testloader)\n",
    "images, labels = dataiter.next()\n",
    "img = images[0]\n",
    "# Convert 2D image to 1D vector\n",
    "img = img.resize_(1, 784)\n",
    "#Calculate the class probabilities (softmax) for img\n",
    "with torch.no_grad():\n",
    "    logps = model(img)\n",
    "ps = torch.exp(logps)\n",
    "# Plot the image and probabilities\n",
    "helper1.view_classify(img.resize_(1, 28, 28), ps, version='Fashion')"
   ]
  },
  {
   "cell_type": "code",
   "execution_count": null,
   "metadata": {},
   "outputs": [],
   "source": []
  }
 ],
 "metadata": {
  "kernelspec": {
   "display_name": "Python 3",
   "language": "python",
   "name": "python3"
  },
  "language_info": {
   "codemirror_mode": {
    "name": "ipython",
    "version": 3
   },
   "file_extension": ".py",
   "mimetype": "text/x-python",
   "name": "python",
   "nbconvert_exporter": "python",
   "pygments_lexer": "ipython3",
   "version": "3.6.8"
  }
 },
 "nbformat": 4,
 "nbformat_minor": 2
}
